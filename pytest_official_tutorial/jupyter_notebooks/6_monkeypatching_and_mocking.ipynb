{
 "cells": [
  {
   "cell_type": "markdown",
   "metadata": {
    "toc": true
   },
   "source": [
    "<h1>Table of Contents<span class=\"tocSkip\"></span></h1>\n",
    "<div class=\"toc\"><ul class=\"toc-item\"><li><span><a href=\"#Simple-example:-monkeypatching-functions\" data-toc-modified-id=\"Simple-example:-monkeypatching-functions-1\"><span class=\"toc-item-num\">1&nbsp;&nbsp;</span>Simple example: monkeypatching functions</a></span></li><li><span><a href=\"#Example:-preventing--&quot;requests&quot;-from-remote-operations\" data-toc-modified-id=\"Example:-preventing--&quot;requests&quot;-from-remote-operations-2\"><span class=\"toc-item-num\">2&nbsp;&nbsp;</span>Example: preventing  \"requests\" from remote operations</a></span></li><li><span><a href=\"#Things-that-might-break-pytest\" data-toc-modified-id=\"Things-that-might-break-pytest-3\"><span class=\"toc-item-num\">3&nbsp;&nbsp;</span>Things that might break pytest</a></span></li><li><span><a href=\"#Additional-references\" data-toc-modified-id=\"Additional-references-4\"><span class=\"toc-item-num\">4&nbsp;&nbsp;</span>Additional references</a></span></li></ul></div>"
   ]
  },
  {
   "cell_type": "markdown",
   "metadata": {},
   "source": [
    "# Monkey patching/mocking modules and environments"
   ]
  },
  {
   "cell_type": "markdown",
   "metadata": {},
   "source": [
    "[Monkey patching/mocking modules and environments](https://docs.pytest.org/en/latest/monkeypatch.html)\n",
    "\n",
    "Sometimes tests need to invoke functionality that depends on global settings of which invokes code that cannot be easily tested (like network access)\n",
    "\n",
    "The `monkeypatch` feature helps to safely set/delete an attribute, dictionary item, to modify environment variables, modfiy `sys.path`, etc.\n",
    "\n",
    "The [monkeypath blog post](http://tetamap.wordpress.com/2009/03/03/monkeypatching-in-unit-tests-done-right/) contains extra material and motivations"
   ]
  },
  {
   "cell_type": "markdown",
   "metadata": {},
   "source": [
    "## Simple example: monkeypatching functions"
   ]
  },
  {
   "cell_type": "markdown",
   "metadata": {},
   "source": [
    "In this case, `os.expanduser` is expected to return a certain directory\n",
    "\n",
    "The `monkeypatch.setattr()` method can patch this function before calling into a function which uses it:"
   ]
  },
  {
   "cell_type": "code",
   "execution_count": null,
   "metadata": {},
   "outputs": [],
   "source": [
    "# content of test_module.py\n",
    "import os.path\n",
    "def getssh(): # pseudo application code\n",
    "    return os.path.join(os.path.expanduser(\"~admin\"), '.ssh')\n",
    "\n",
    "def test_mytest(monkeypatch):\n",
    "    def mockreturn(path):\n",
    "        return '/abc'\n",
    "    monkeypatch.setattr(os.path, 'expanduser', mockreturn)\n",
    "    x = getssh()\n",
    "    assert x == '/abc/.ssh'"
   ]
  },
  {
   "cell_type": "markdown",
   "metadata": {},
   "source": [
    "The test function monkeypatches `os.path.expanduser` and then calls into a function that calls it\n",
    "\n",
    "After the test finishes, the `os.path.expanduser` modification will be undone"
   ]
  },
  {
   "cell_type": "markdown",
   "metadata": {},
   "source": [
    "## Example: preventing  \"requests\" from remote operations"
   ]
  },
  {
   "cell_type": "markdown",
   "metadata": {},
   "source": [
    "To prevent the \"requests\" library from performing http requests in all tests:"
   ]
  },
  {
   "cell_type": "code",
   "execution_count": null,
   "metadata": {},
   "outputs": [],
   "source": [
    "# content of conftest.py\n",
    "import pytest\n",
    "@pytest.fixture(autouse=True)\n",
    "def no_requests(monkeypatch):\n",
    "    monkeypatch.delattr(\"requests.sessions.Session.request\")"
   ]
  },
  {
   "cell_type": "markdown",
   "metadata": {},
   "source": [
    "The autouse fixture will then be executed for each test function and will delete the method `request.session.Session.request` so that any attempts within a test to create http requests will fail"
   ]
  },
  {
   "cell_type": "markdown",
   "metadata": {},
   "source": [
    "## Things that might break pytest"
   ]
  },
  {
   "cell_type": "markdown",
   "metadata": {},
   "source": [
    "Do not patch things like `open`, `compile`, etc.\n",
    "\n",
    "Patching `stdlib` functions and some third-party libraries used by pytest might break pytest, so it is recommended to use `MonkeyPatch.context()` to limit the patching to the necessary block:"
   ]
  },
  {
   "cell_type": "code",
   "execution_count": null,
   "metadata": {},
   "outputs": [],
   "source": [
    "import functools\n",
    "\n",
    "\n",
    "def test_partial(monkeypatch):\n",
    "    with monkeypatch.context() as m:\n",
    "        m.setattr(functools, \"partial\", 3)\n",
    "        assert functools.partial == 3"
   ]
  },
  {
   "cell_type": "markdown",
   "metadata": {},
   "source": [
    "## Additional references"
   ]
  },
  {
   "cell_type": "markdown",
   "metadata": {},
   "source": [
    "[MonkeyPatch class](https://docs.pytest.org/en/latest/reference.html#_pytest.monkeypatch.MonkeyPatch)\n",
    "\n",
    "[stackoverflow pytest thread](https://stackoverflow.com/search?q=pytest)"
   ]
  }
 ],
 "metadata": {
  "kernelspec": {
   "display_name": "Python 3",
   "language": "python",
   "name": "python3"
  },
  "language_info": {
   "codemirror_mode": {
    "name": "ipython",
    "version": 3
   },
   "file_extension": ".py",
   "mimetype": "text/x-python",
   "name": "python",
   "nbconvert_exporter": "python",
   "pygments_lexer": "ipython3",
   "version": "3.7.0"
  },
  "toc": {
   "base_numbering": 1,
   "nav_menu": {
    "height": "102px",
    "width": "211px"
   },
   "number_sections": true,
   "sideBar": true,
   "skip_h1_title": true,
   "title_cell": "Table of Contents",
   "title_sidebar": "Contents",
   "toc_cell": true,
   "toc_position": {},
   "toc_section_display": true,
   "toc_window_display": false
  }
 },
 "nbformat": 4,
 "nbformat_minor": 2
}
