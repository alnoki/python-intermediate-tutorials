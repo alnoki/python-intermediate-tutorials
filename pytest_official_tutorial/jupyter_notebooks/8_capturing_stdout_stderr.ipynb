{
 "cells": [
  {
   "cell_type": "markdown",
   "metadata": {},
   "source": [
    "See [Capturing of the stdout/stderr output](https://docs.pytest.org/en/latest/capture.html#capturing-of-the-stdout-stderr-output)\n",
    "\n",
    ".py files for tutorial kept at `6_capturing_stdout_stderr`"
   ]
  },
  {
   "cell_type": "markdown",
   "metadata": {
    "toc": true
   },
   "source": [
    "<h1>Table of Contents<span class=\"tocSkip\"></span></h1>\n",
    "<div class=\"toc\"><ul class=\"toc-item\"><li><span><a href=\"#Default-stdout/stderr/stdin-capturing-behavior\" data-toc-modified-id=\"Default-stdout/stderr/stdin-capturing-behavior-1\"><span class=\"toc-item-num\">1&nbsp;&nbsp;</span>Default stdout/stderr/stdin capturing behavior</a></span></li><li><span><a href=\"#Setting-capturing-methods-or-disabling-capturing\" data-toc-modified-id=\"Setting-capturing-methods-or-disabling-capturing-2\"><span class=\"toc-item-num\">2&nbsp;&nbsp;</span>Setting capturing methods or disabling capturing</a></span></li><li><span><a href=\"#Using-print-statements-for-debugging\" data-toc-modified-id=\"Using-print-statements-for-debugging-3\"><span class=\"toc-item-num\">3&nbsp;&nbsp;</span>Using print statements for debugging</a></span></li><li><span><a href=\"#Accessing-captured-output-from-a-test-function\" data-toc-modified-id=\"Accessing-captured-output-from-a-test-function-4\"><span class=\"toc-item-num\">4&nbsp;&nbsp;</span>Accessing captured output from a test function</a></span></li></ul></div>"
   ]
  },
  {
   "cell_type": "markdown",
   "metadata": {},
   "source": [
    "# Default stdout/stderr/stdin capturing behavior"
   ]
  },
  {
   "cell_type": "markdown",
   "metadata": {},
   "source": [
    "See [Default stdout/stderr/stdin capturing behavior](https://docs.pytest.org/en/latest/capture.html#default-stdout-stderr-stdin-capturing-behaviour)"
   ]
  },
  {
   "cell_type": "markdown",
   "metadata": {},
   "source": [
    "During test execution, any output sent to `stdout` and `stderr` is captured\n",
    "\n",
    "Resulting captured output can be shown via `--show-capture`\n",
    "\n",
    "Also, `stdin` is set to a \"null\" object which will fail on read attempts\n",
    "\n",
    "Default capturing is done by intercepting writes to low level file descriptors"
   ]
  },
  {
   "cell_type": "markdown",
   "metadata": {},
   "source": [
    "# Setting capturing methods or disabling capturing"
   ]
  },
  {
   "cell_type": "markdown",
   "metadata": {},
   "source": [
    "See [Setting capturing methods or disabling capturing](https://docs.pytest.org/en/latest/capture.html#setting-capturing-methods-or-disabling-capturing)\n",
    "\n",
    "`pytest` can perform capturing via:\n",
    "\n",
    "* file descriptor (FD) capturing (default)\n",
    "  * All writes going to the OS file descriptors 1 and 2 will be captured\n",
    "* `sys` level capturing\n",
    "  * Only writes to `sys.stdout` and `sys.stderr` will be captured, without any capturing of FD writes\n",
    "  \n",
    "Command line options:\n",
    "\n",
    "```python\n",
    "pytest -s            # disable all capturing\n",
    "pytest --capture=sys # replace sys.stdout/stderr with in-mem files\n",
    "pytest --capture=fd  # also point filedescriptors 1 and 2 to temp file\n",
    "```"
   ]
  },
  {
   "cell_type": "markdown",
   "metadata": {},
   "source": [
    "# Using print statements for debugging"
   ]
  },
  {
   "cell_type": "markdown",
   "metadata": {},
   "source": [
    "Print statements can be used for debugging if `stdout`/`stderr` output is captured:\n",
    "\n",
    "```python\n",
    "# content of test_module.py\n",
    "\n",
    "def setup_function(function):\n",
    "    print (\"setting up %s\" % function)\n",
    "\n",
    "def test_func1():\n",
    "    assert True\n",
    "\n",
    "def test_func2():\n",
    "    assert False\n",
    "```\n",
    "\n",
    "Running the test will show the output of the failing function:\n",
    "\n",
    "```\n",
    "$ pytest -q test_module.py\n",
    ".F                                                                       [100%]\n",
    "================================== FAILURES ===================================\n",
    "_________________________________ test_func2 __________________________________\n",
    "\n",
    "    def test_func2():\n",
    ">       assert False\n",
    "E       assert False\n",
    "\n",
    "test_module.py:10: AssertionError\n",
    "---------------------------- Captured stdout setup ----------------------------\n",
    "setting up <function test_func2 at 0x000001B7711316A8>\n",
    "1 failed, 1 passed in 0.03 seconds\n",
    "```"
   ]
  },
  {
   "cell_type": "markdown",
   "metadata": {},
   "source": [
    "# Accessing captured output from a test function"
   ]
  },
  {
   "cell_type": "markdown",
   "metadata": {},
   "source": [
    "See [Accessing captured output from a test function](https://docs.pytest.org/en/latest/capture.html#accessing-captured-output-from-a-test-function)\n",
    "\n",
    "The `capsys`, `capsysbinary`, `capfd`, and `capfdbinary` fixtures allow access to stdout/stderr output from tests\n",
    "\n",
    "An example test with output related checks:\n",
    "\n",
    "```python\n",
    "def test_myoutput(capsys):  # or use \"capfd\" for fd-level\n",
    "    print(\"hello\")\n",
    "    sys.stderr.write(\"world\\n\")\n",
    "    captured = capsys.readouterr()\n",
    "    assert captured.out == \"hello\\n\"\n",
    "    assert captured.err == \"world\\n\"\n",
    "    print(\"next\")\n",
    "    captured = capsys.readouterr()\n",
    "    assert captured.out == \"next\\n\"\n",
    "```\n",
    "\n",
    "The `readouterr()` call gets the output so far and allows capturing to continue. After the function finishes, the original streams will be restored\n",
    "\n",
    "Using `capsys` frees the test from having to care about setting/resetting output streams and also works with pytest's per-test capturing\n",
    "\n",
    "`capfd` works on an output stream level\n",
    "\n",
    "Text can also be disabled via the `with capsys.disabled()` context:\n",
    "\n",
    "```\n",
    "def test_disabling_capturing(capsys):\n",
    "    print(\"this output is captured\")\n",
    "    with capsys.disabled():\n",
    "        print(\"output not captured, going directly to sys.stdout\")\n",
    "    print(\"this output is also captured\")\n",
    "```"
   ]
  }
 ],
 "metadata": {
  "kernelspec": {
   "display_name": "Python 3",
   "language": "python",
   "name": "python3"
  },
  "language_info": {
   "codemirror_mode": {
    "name": "ipython",
    "version": 3
   },
   "file_extension": ".py",
   "mimetype": "text/x-python",
   "name": "python",
   "nbconvert_exporter": "python",
   "pygments_lexer": "ipython3",
   "version": "3.7.0"
  },
  "toc": {
   "base_numbering": 1,
   "nav_menu": {},
   "number_sections": true,
   "sideBar": true,
   "skip_h1_title": false,
   "title_cell": "Table of Contents",
   "title_sidebar": "Contents",
   "toc_cell": true,
   "toc_position": {},
   "toc_section_display": true,
   "toc_window_display": false
  },
  "varInspector": {
   "cols": {
    "lenName": 16,
    "lenType": 16,
    "lenVar": 40
   },
   "kernels_config": {
    "python": {
     "delete_cmd_postfix": "",
     "delete_cmd_prefix": "del ",
     "library": "var_list.py",
     "varRefreshCmd": "print(var_dic_list())"
    },
    "r": {
     "delete_cmd_postfix": ") ",
     "delete_cmd_prefix": "rm(",
     "library": "var_list.r",
     "varRefreshCmd": "cat(var_dic_list()) "
    }
   },
   "position": {
    "height": "231px",
    "left": "445px",
    "right": "20px",
    "top": "120px",
    "width": "374px"
   },
   "types_to_exclude": [
    "module",
    "function",
    "builtin_function_or_method",
    "instance",
    "_Feature"
   ],
   "window_display": false
  }
 },
 "nbformat": 4,
 "nbformat_minor": 2
}
