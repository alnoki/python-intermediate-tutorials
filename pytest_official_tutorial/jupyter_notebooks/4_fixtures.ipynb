{
 "cells": [
  {
   "cell_type": "markdown",
   "metadata": {
    "toc": true
   },
   "source": [
    "<h1>Table of Contents<span class=\"tocSkip\"></span></h1>\n",
    "<div class=\"toc\"><ul class=\"toc-item\"><li><span><a href=\"#pytest-fixtures:-explicit,-modular,-scalable\" data-toc-modified-id=\"pytest-fixtures:-explicit,-modular,-scalable-1\"><span class=\"toc-item-num\">1&nbsp;&nbsp;</span><a href=\"https://docs.pytest.org/en/latest/fixture.html\" target=\"_blank\">pytest fixtures: explicit, modular, scalable</a></a></span><ul class=\"toc-item\"><li><span><a href=\"#Fixtures-as-Function-arguments\" data-toc-modified-id=\"Fixtures-as-Function-arguments-1.1\"><span class=\"toc-item-num\">1.1&nbsp;&nbsp;</span><a href=\"https://docs.pytest.org/en/latest/fixture.html#fixtures-as-function-arguments\" target=\"_blank\">Fixtures as Function arguments</a></a></span></li><li><span><a href=\"#conftest.py:-sharing-fixture-functions\" data-toc-modified-id=\"conftest.py:-sharing-fixture-functions-1.2\"><span class=\"toc-item-num\">1.2&nbsp;&nbsp;</span><a href=\"https://docs.pytest.org/en/latest/fixture.html#conftest-py-sharing-fixture-functions\" target=\"_blank\">conftest.py: sharing fixture functions</a></a></span></li><li><span><a href=\"#Scope:-sharing-a-fixture-instance-across-tests-in-a-class,-module-or-session\" data-toc-modified-id=\"Scope:-sharing-a-fixture-instance-across-tests-in-a-class,-module-or-session-1.3\"><span class=\"toc-item-num\">1.3&nbsp;&nbsp;</span><a href=\"https://docs.pytest.org/en/latest/fixture.html#scope-sharing-a-fixture-instance-across-tests-in-a-class-module-or-session\" target=\"_blank\">Scope: sharing a fixture instance across tests in a class, module or session</a></a></span></li><li><span><a href=\"#Higher-scoped-fixtures-are-instantiated-first\" data-toc-modified-id=\"Higher-scoped-fixtures-are-instantiated-first-1.4\"><span class=\"toc-item-num\">1.4&nbsp;&nbsp;</span><a href=\"https://docs.pytest.org/en/latest/fixture.html#higher-scoped-fixtures-are-instantiated-first\" target=\"_blank\">Higher-scoped fixtures are instantiated first</a></a></span></li><li><span><a href=\"#Fixture-finalization-/-executing-teardown-code\" data-toc-modified-id=\"Fixture-finalization-/-executing-teardown-code-1.5\"><span class=\"toc-item-num\">1.5&nbsp;&nbsp;</span><a href=\"https://docs.pytest.org/en/latest/fixture.html#fixture-finalization-executing-teardown-code\" target=\"_blank\">Fixture finalization / executing teardown code</a></a></span></li><li><span><a href=\"#Fixtures-can-introspect-the-requesting-test-contex\" data-toc-modified-id=\"Fixtures-can-introspect-the-requesting-test-contex-1.6\"><span class=\"toc-item-num\">1.6&nbsp;&nbsp;</span><a href=\"https://docs.pytest.org/en/latest/fixture.html#fixtures-can-introspect-the-requesting-test-context\" target=\"_blank\">Fixtures can introspect the requesting test contex</a></a></span></li><li><span><a href=\"#Factories-as-fixtures\" data-toc-modified-id=\"Factories-as-fixtures-1.7\"><span class=\"toc-item-num\">1.7&nbsp;&nbsp;</span><a href=\"https://docs.pytest.org/en/latest/fixture.html#factories-as-fixtures\" target=\"_blank\">Factories as fixtures</a></a></span></li><li><span><a href=\"#Parametrizing-fixtures\" data-toc-modified-id=\"Parametrizing-fixtures-1.8\"><span class=\"toc-item-num\">1.8&nbsp;&nbsp;</span><a href=\"https://docs.pytest.org/en/latest/fixture.html#factories-as-fixtures\" target=\"_blank\">Parametrizing fixtures</a></a></span><ul class=\"toc-item\"><li><span><a href=\"#Parameter-ID-specification\" data-toc-modified-id=\"Parameter-ID-specification-1.8.1\"><span class=\"toc-item-num\">1.8.1&nbsp;&nbsp;</span>Parameter ID specification</a></span></li></ul></li><li><span><a href=\"#Using-marks-with-parametrized-fixtures\" data-toc-modified-id=\"Using-marks-with-parametrized-fixtures-1.9\"><span class=\"toc-item-num\">1.9&nbsp;&nbsp;</span><a href=\"https://docs.pytest.org/en/latest/fixture.html#using-marks-with-parametrized-fixtures\" target=\"_blank\">Using marks with parametrized fixtures</a></a></span></li><li><span><a href=\"#Modularity:-using-fixtures-from-a-fixture-function\" data-toc-modified-id=\"Modularity:-using-fixtures-from-a-fixture-function-1.10\"><span class=\"toc-item-num\">1.10&nbsp;&nbsp;</span><a href=\"https://docs.pytest.org/en/latest/fixture.html#modularity-using-fixtures-from-a-fixture-function\" target=\"_blank\">Modularity: using fixtures from a fixture function</a></a></span></li><li><span><a href=\"#Automatic-grouping-of-tests-by-fixture-instances\" data-toc-modified-id=\"Automatic-grouping-of-tests-by-fixture-instances-1.11\"><span class=\"toc-item-num\">1.11&nbsp;&nbsp;</span><a href=\"https://docs.pytest.org/en/latest/fixture.html#automatic-grouping-of-tests-by-fixture-instances\" target=\"_blank\">Automatic grouping of tests by fixture instances</a></a></span></li><li><span><a href=\"#Using-fixtures-from-classes,-modules-or-projects\" data-toc-modified-id=\"Using-fixtures-from-classes,-modules-or-projects-1.12\"><span class=\"toc-item-num\">1.12&nbsp;&nbsp;</span><a href=\"https://docs.pytest.org/en/latest/fixture.html#using-fixtures-from-classes-modules-or-projects\" target=\"_blank\">Using fixtures from classes, modules or projects</a></a></span><ul class=\"toc-item\"><li><span><a href=\"#Warning:-can't-apply-to-fixture-functions\" data-toc-modified-id=\"Warning:-can't-apply-to-fixture-functions-1.12.1\"><span class=\"toc-item-num\">1.12.1&nbsp;&nbsp;</span>Warning: can't apply to fixture functions</a></span></li></ul></li><li><span><a href=\"#Autouse-fixtures-(xUnit-setup-on-steroids)\" data-toc-modified-id=\"Autouse-fixtures-(xUnit-setup-on-steroids)-1.13\"><span class=\"toc-item-num\">1.13&nbsp;&nbsp;</span><a href=\"https://docs.pytest.org/en/latest/fixture.html#autouse-fixtures-xunit-setup-on-steroids\" target=\"_blank\">Autouse fixtures (xUnit setup on steroids)</a></a></span></li><li><span><a href=\"#Overriding-fixtures-on-various-levels\" data-toc-modified-id=\"Overriding-fixtures-on-various-levels-1.14\"><span class=\"toc-item-num\">1.14&nbsp;&nbsp;</span><a href=\"https://docs.pytest.org/en/latest/fixture.html#overriding-fixtures-on-various-levels\" target=\"_blank\">Overriding fixtures on various levels</a></a></span><ul class=\"toc-item\"><li><span><a href=\"#Override-a-fixture-on-a-folder-(conftest)-level\" data-toc-modified-id=\"Override-a-fixture-on-a-folder-(conftest)-level-1.14.1\"><span class=\"toc-item-num\">1.14.1&nbsp;&nbsp;</span><a href=\"https://docs.pytest.org/en/latest/fixture.html#override-a-fixture-on-a-folder-conftest-level\" target=\"_blank\">Override a fixture on a folder (conftest) level</a></a></span></li><li><span><a href=\"#Override-a-fixture-on-a-test-module-level\" data-toc-modified-id=\"Override-a-fixture-on-a-test-module-level-1.14.2\"><span class=\"toc-item-num\">1.14.2&nbsp;&nbsp;</span><a href=\"https://docs.pytest.org/en/latest/fixture.html#override-a-fixture-on-a-test-module-level\" target=\"_blank\">Override a fixture on a test module level</a></a></span></li><li><span><a href=\"#Override-a-fixture-with-direct-test-parametrization\" data-toc-modified-id=\"Override-a-fixture-with-direct-test-parametrization-1.14.3\"><span class=\"toc-item-num\">1.14.3&nbsp;&nbsp;</span><a href=\"https://docs.pytest.org/en/latest/fixture.html#override-a-fixture-with-direct-test-parametrization\" target=\"_blank\">Override a fixture with direct test parametrization</a></a></span></li><li><span><a href=\"#Override-a-parametrized-fixture-with-non-parametrized-one-and-vice-versa\" data-toc-modified-id=\"Override-a-parametrized-fixture-with-non-parametrized-one-and-vice-versa-1.14.4\"><span class=\"toc-item-num\">1.14.4&nbsp;&nbsp;</span><a href=\"https://docs.pytest.org/en/latest/fixture.html#override-a-parametrized-fixture-with-non-parametrized-one-and-vice-versa\" target=\"_blank\">Override a parametrized fixture with non-parametrized one and vice versa</a></a></span></li></ul></li></ul></li></ul></div>"
   ]
  },
  {
   "cell_type": "markdown",
   "metadata": {},
   "source": [
    "# [pytest fixtures: explicit, modular, scalable](https://docs.pytest.org/en/latest/fixture.html)\n",
    "Sample code found at `pytest_official_tutorial\\3_fixtures`\n",
    "## [Fixtures as Function arguments](https://docs.pytest.org/en/latest/fixture.html#fixtures-as-function-arguments)\n",
    "See `test_smptsimple.py`\n",
    "\n",
    "A fixture is registered by using the `fixture` decorator, and the fixture name can be called as an argument to other tests:"
   ]
  },
  {
   "cell_type": "code",
   "execution_count": 3,
   "metadata": {},
   "outputs": [],
   "source": [
    "import pytest\n",
    "\n",
    "@pytest.fixture\n",
    "def smtp_connection():\n",
    "    import smtplib\n",
    "    return smtplib.SMTP(\"smtp.gmail.com\", 587, timeout=5)\n",
    "\n",
    "def test_ehlo(smtp_connection):\n",
    "    response, msg = smtp_connection.ehlo()\n",
    "    assert response == 250\n",
    "    assert 0 # for demo purposes"
   ]
  },
  {
   "cell_type": "markdown",
   "metadata": {},
   "source": [
    "The `pytest --fixtures test_smtpsimple.py` command displayed some commonly available fixtures"
   ]
  },
  {
   "cell_type": "markdown",
   "metadata": {},
   "source": [
    "## [conftest.py: sharing fixture functions](https://docs.pytest.org/en/latest/fixture.html#conftest-py-sharing-fixture-functions)\n",
    "To share a fixture among multiple tests, the fixture must be included in `conftest.py`, which does not need to be imported, since `pytest` will discover it automatically"
   ]
  },
  {
   "cell_type": "markdown",
   "metadata": {},
   "source": [
    "## [Scope: sharing a fixture instance across tests in a class, module or session](https://docs.pytest.org/en/latest/fixture.html#scope-sharing-a-fixture-instance-across-tests-in-a-class-module-or-session)\n",
    "The `scope='module'` parameter to the `fixture` invocation causes a fixture to be invoked just once per *module* (as opposed to the default once per *function*). In this way, different test functions in a module will receive the same fixture instance\n",
    "\n",
    "Scope can be `function`, `class`, `module`, `package`, or `session`\n",
    "\n",
    "The below example defines a fixture in `conftest.py`:"
   ]
  },
  {
   "cell_type": "code",
   "execution_count": 1,
   "metadata": {},
   "outputs": [],
   "source": [
    "# content of conftest.py\n",
    "import pytest\n",
    "import smtplib\n",
    "\n",
    "@pytest.fixture(scope=\"module\")\n",
    "def smtp_connection():\n",
    "    return smtplib.SMTP(\"smtp.gmail.com\", 587, timeout=5)"
   ]
  },
  {
   "cell_type": "markdown",
   "metadata": {},
   "source": [
    "The fixture is `smtp_connection` and can be accessed by any function in or below the directory of `conftest.py`:"
   ]
  },
  {
   "cell_type": "code",
   "execution_count": null,
   "metadata": {},
   "outputs": [],
   "source": [
    "# content of test_module.py\n",
    "\n",
    "def test_ehlo(smtp_connection):\n",
    "    response, msg = smtp_connection.ehlo()\n",
    "    assert response == 250\n",
    "    assert b\"smtp.gmail.com\" in msg\n",
    "    assert 0  # for demo purposes\n",
    "\n",
    "def test_noop(smtp_connection):\n",
    "    response, msg = smtp_connection.noop()\n",
    "    assert response == 250\n",
    "    assert 0  # for demo purposes"
   ]
  },
  {
   "cell_type": "markdown",
   "metadata": {},
   "source": [
    "In the above case, both tests received the same instance of the fixture:"
   ]
  },
  {
   "cell_type": "raw",
   "metadata": {},
   "source": [
    "================================== FAILURES ===================================\n",
    "__________________________________ test_ehlo __________________________________\n",
    "\n",
    "smtp_connection = <smtplib.SMTP object at 0x0000020E8B56F908>\n",
    "\n",
    "    def test_ehlo(smtp_connection):\n",
    "        response, msg = smtp_connection.ehlo()\n",
    "        assert response == 250\n",
    "        assert b\"smtp.gmail.com\" in msg\n",
    ">       assert 0  # for demo purposes\n",
    "E       assert 0\n",
    "\n",
    "test_module.py:7: AssertionError\n",
    "__________________________________ test_noop __________________________________\n",
    "\n",
    "smtp_connection = <smtplib.SMTP object at 0x0000020E8B56F908>\n",
    "\n",
    "    def test_noop(smtp_connection):\n",
    "        response, msg = smtp_connection.noop()\n",
    "        assert response == 250\n",
    ">       assert 0  # for demo purposes\n",
    "E       assert 0\n",
    "\n",
    "test_module.py:12: AssertionError\n",
    "========================== 2 failed in 0.43 seconds ==========================="
   ]
  },
  {
   "cell_type": "markdown",
   "metadata": {},
   "source": [
    "The `session` scope will return the same instance for all tests in a test session:"
   ]
  },
  {
   "cell_type": "code",
   "execution_count": 4,
   "metadata": {},
   "outputs": [],
   "source": [
    "@pytest.fixture(scope=\"session\")\n",
    "def smtp_connection():\n",
    "    # the returned fixture value will be shared for\n",
    "    # all tests needing it\n",
    "    ..."
   ]
  },
  {
   "cell_type": "markdown",
   "metadata": {},
   "source": [
    "Additionally, the `class` scope will invoke a fixture just once per class\n",
    "\n",
    "\n",
    "The `package` scope is experimental and may be removed in the future"
   ]
  },
  {
   "cell_type": "markdown",
   "metadata": {},
   "source": [
    "## [Higher-scoped fixtures are instantiated first](https://docs.pytest.org/en/latest/fixture.html#higher-scoped-fixtures-are-instantiated-first)\n",
    "See `test_instatiation_order`:"
   ]
  },
  {
   "cell_type": "code",
   "execution_count": 5,
   "metadata": {},
   "outputs": [],
   "source": [
    "@pytest.fixture(scope=\"session\")\n",
    "def s1():\n",
    "    pass\n",
    "\n",
    "\n",
    "@pytest.fixture(scope=\"module\")\n",
    "def m1():\n",
    "    pass\n",
    "\n",
    "\n",
    "@pytest.fixture\n",
    "def f1(tmpdir):\n",
    "    pass\n",
    "\n",
    "\n",
    "@pytest.fixture\n",
    "def f2():\n",
    "    pass\n",
    "\n",
    "\n",
    "def test_foo(f1, m1, f2, s1):\n",
    "    ..."
   ]
  },
  {
   "cell_type": "markdown",
   "metadata": {},
   "source": [
    "`test_foo` will instantiate fixtures in the following order:\n",
    "1. `s1`, the highest-scope (`session`)\n",
    "2. `m1`, second-highest scope (`module`)\n",
    "3. `tmpdir`, which is a `function`-scoped fixture\n",
    "  1. Needed by `f1`\n",
    "4. `f1` is the first `function`-scoped fixture in `test_foo` parameter list\n",
    "5. `f2` is the second `function`-scoped fixture in `test_foo` parameter list"
   ]
  },
  {
   "cell_type": "markdown",
   "metadata": {},
   "source": [
    "## [Fixture finalization / executing teardown code](https://docs.pytest.org/en/latest/fixture.html#fixture-finalization-executing-teardown-code)\n",
    "By using `yield` instead of `return`, all code after `yield` is ran as teardown after the fixture goes out of scope:"
   ]
  },
  {
   "cell_type": "code",
   "execution_count": 7,
   "metadata": {},
   "outputs": [],
   "source": [
    "# content of conftest.py\n",
    "\n",
    "import smtplib\n",
    "import pytest\n",
    "\n",
    "\n",
    "@pytest.fixture(scope=\"module\")\n",
    "def smtp_connection():\n",
    "    smtp_connection = smtplib.SMTP(\"smtp.gmail.com\", 587, timeout=5)\n",
    "    yield smtp_connection  # provide the fixture value\n",
    "    print(\"teardown smtp\")\n",
    "    smtp_connection.close()"
   ]
  },
  {
   "cell_type": "markdown",
   "metadata": {},
   "source": [
    "To execute the test, run\n",
    "\n",
    "`pytest -s -q --tb=no`\n",
    "\n",
    "Additionally, the `yield` and `with` statements can be used:"
   ]
  },
  {
   "cell_type": "code",
   "execution_count": null,
   "metadata": {},
   "outputs": [],
   "source": [
    "# content of test_yield2.py\n",
    "\n",
    "import smtplib\n",
    "import pytest\n",
    "\n",
    "\n",
    "@pytest.fixture(scope=\"module\")\n",
    "def smtp_connection():\n",
    "    with smtplib.SMTP(\"smtp.gmail.com\", 587, timeout=5) as smtp_connection:\n",
    "        yield smtp_connection  # provide the fixture value"
   ]
  },
  {
   "cell_type": "markdown",
   "metadata": {},
   "source": [
    "The `smtp_connection` object automatically closes since it has its own context manager\n",
    "\n",
    "If an exception happens in setup (before `yield`), the teardown (after `yield`) code will **not** be executed\n",
    "\n",
    "Aditionally, the `addfinalizer` facility can be used for cleanup:"
   ]
  },
  {
   "cell_type": "code",
   "execution_count": null,
   "metadata": {},
   "outputs": [],
   "source": [
    "# content of conftest.py\n",
    "import smtplib\n",
    "import pytest\n",
    "\n",
    "\n",
    "@pytest.fixture(scope=\"module\")\n",
    "def smtp_connection(request):\n",
    "    smtp_connection = smtplib.SMTP(\"smtp.gmail.com\", 587, timeout=5)\n",
    "\n",
    "    def fin():\n",
    "        print(\"teardown smtp_connection\")\n",
    "        smtp_connection.close()\n",
    "\n",
    "    request.addfinalizer(fin)\n",
    "    return smtp_connection  # provide the fixture value"
   ]
  },
  {
   "cell_type": "markdown",
   "metadata": {},
   "source": [
    "The `addfinalizer` method calls code after the test ends, but is different from `yield`:\n",
    "1. Multiple finalizer functions can be registered\n",
    "2. Finalizers are always called regardless of if setup code raises an exception"
   ]
  },
  {
   "cell_type": "code",
   "execution_count": null,
   "metadata": {},
   "outputs": [],
   "source": [
    "@pytest.fixture\n",
    "def equipments(request):\n",
    "    r = []\n",
    "    for port in ('C1', 'C3', 'C28'):\n",
    "        equip = connect(port)\n",
    "        request.addfinalizer(equip.disconnect)\n",
    "        r.append(equip)\n",
    "    return r"
   ]
  },
  {
   "cell_type": "markdown",
   "metadata": {},
   "source": [
    "In the above example, if `C28` fails with exception, `C1` and `C2` will still be properly closed, but if an exception happens before the finalize function is registered then it will not be executed"
   ]
  },
  {
   "cell_type": "markdown",
   "metadata": {},
   "source": [
    "## [Fixtures can introspect the requesting test contex](https://docs.pytest.org/en/latest/fixture.html#fixtures-can-introspect-the-requesting-test-context)\n",
    "The `request` object allows a fixture to inspect the \"requesting\" function, class, module context, etc.:"
   ]
  },
  {
   "cell_type": "code",
   "execution_count": 8,
   "metadata": {},
   "outputs": [],
   "source": [
    "# content of conftest.py\n",
    "import pytest\n",
    "import smtplib\n",
    "\n",
    "@pytest.fixture(scope=\"module\")\n",
    "def smtp_connection(request):\n",
    "    server = getattr(request.module, \"smtpserver\", \"smtp.gmail.com\")\n",
    "    smtp_connection = smtplib.SMTP(server, 587, timeout=5)\n",
    "    yield smtp_connection\n",
    "    print (\"finalizing %s (%s)\" % (smtp_connection, server))\n",
    "    smtp_connection.close()"
   ]
  },
  {
   "cell_type": "markdown",
   "metadata": {},
   "source": [
    "The `request.module` attribute obtains an `smtpserver` attibute from the test module, which can be accessed via the module namespace of `test_anothersmtp.py`:"
   ]
  },
  {
   "cell_type": "code",
   "execution_count": 9,
   "metadata": {},
   "outputs": [],
   "source": [
    "# content of test_anothersmtp.py\n",
    "\n",
    "smtpserver = \"mail.python.org\"  # will be read by smtp fixture\n",
    "\n",
    "def test_showhelo(smtp_connection):\n",
    "    assert 0, smtp_connection.helo()"
   ]
  },
  {
   "cell_type": "markdown",
   "metadata": {},
   "source": [
    "To run the above test, use `pytest -qq --tb=short test_anothersmtp.py`, and note the `mail.python.org` output in the trace:"
   ]
  },
  {
   "cell_type": "raw",
   "metadata": {},
   "source": [
    "pytest -qq --tb=short test_anothersmtp.py\n",
    "F                                                                        [100%]\n",
    "================================== FAILURES ===================================\n",
    "________________________________ test_showhelo ________________________________\n",
    "test_anothersmtp.py:5: in test_showhelo\n",
    "    assert 0, smtp_connection.helo()\n",
    "E   AssertionError: (250, b'mail.python.org')\n",
    "E   assert 0\n",
    "-------------------------- Captured stdout teardown ---------------------------\n",
    "finalizing <smtplib.SMTP object at 0x0000020D3E9E0C88> (mail.python.org)"
   ]
  },
  {
   "cell_type": "markdown",
   "metadata": {},
   "source": [
    "## [Factories as fixtures](https://docs.pytest.org/en/latest/fixture.html#factories-as-fixtures)\n",
    "The \"factory as fixture\" pattern returns a function that can be called multiple times in a test, and can have parameters as needed:"
   ]
  },
  {
   "cell_type": "code",
   "execution_count": 11,
   "metadata": {},
   "outputs": [],
   "source": [
    "@pytest.fixture\n",
    "def make_customer_record():\n",
    "\n",
    "    def _make_customer_record(name):\n",
    "        return {\n",
    "            \"name\": name,\n",
    "            \"orders\": []\n",
    "        }\n",
    "\n",
    "    return _make_customer_record\n",
    "\n",
    "\n",
    "def test_customer_records(make_customer_record):\n",
    "    customer_1 = make_customer_record(\"Lisa\")\n",
    "    customer_2 = make_customer_record(\"Mike\")\n",
    "    customer_3 = make_customer_record(\"Meredith\")\n"
   ]
  },
  {
   "cell_type": "markdown",
   "metadata": {},
   "source": [
    "This will make a blank customer record for `Lisa`, then `Mike`, etc.\n",
    "\n",
    "The fixture can also manage data required by the factory:"
   ]
  },
  {
   "cell_type": "code",
   "execution_count": 12,
   "metadata": {},
   "outputs": [],
   "source": [
    "@pytest.fixture\n",
    "def make_customer_record():\n",
    "\n",
    "    created_records = []\n",
    "\n",
    "    def _make_customer_record(name):\n",
    "        record = models.Customer(name=name, orders=[])\n",
    "        created_records.append(record)\n",
    "        return record\n",
    "\n",
    "    yield _make_customer_record\n",
    "\n",
    "    for record in created_records:\n",
    "        record.destroy()\n",
    "\n",
    "\n",
    "def test_customer_records(make_customer_record):\n",
    "    customer_1 = make_customer_record(\"Lisa\")\n",
    "    customer_2 = make_customer_record(\"Mike\")\n",
    "    customer_3 = make_customer_record(\"Meredith\")"
   ]
  },
  {
   "cell_type": "markdown",
   "metadata": {},
   "source": [
    "In this case, the records are stored in the fixture itself at `created_records`, then destroyed during the teardown code"
   ]
  },
  {
   "cell_type": "markdown",
   "metadata": {},
   "source": [
    "## [Parametrizing fixtures](https://docs.pytest.org/en/latest/fixture.html#factories-as-fixtures)\n",
    "Parameterizing will cause fixture functions to be called multiple times, each time executing a set of tests that depend on the fixture\n",
    "\n",
    "The previous `smtp_connection` fixture can be flagged to create two instances and so that each test will run twice:"
   ]
  },
  {
   "cell_type": "code",
   "execution_count": 13,
   "metadata": {},
   "outputs": [],
   "source": [
    "# content of conftest.py\n",
    "import pytest\n",
    "import smtplib\n",
    "\n",
    "@pytest.fixture(scope=\"module\",\n",
    "                params=[\"smtp.gmail.com\", \"mail.python.org\"])\n",
    "def smtp_connection(request):\n",
    "    smtp_connection = smtplib.SMTP(request.param, 587, timeout=5)\n",
    "    yield smtp_connection\n",
    "    print(\"finalizing %s\" % smtp_connection)\n",
    "    smtp_connection.close()"
   ]
  },
  {
   "cell_type": "markdown",
   "metadata": {},
   "source": [
    "The `request` parameter of `smtp_connection` provides access to the parameters from the `fixture` decorator\n",
    "\n",
    "To run the test, use `pytest -q test_module.py`:"
   ]
  },
  {
   "cell_type": "raw",
   "metadata": {},
   "source": [
    "FFFF                                                                     [100%]\n",
    "================================== FAILURES ===================================\n",
    "__________________________ test_ehlo[smtp.gmail.com] __________________________\n",
    "\n",
    "smtp_connection = <smtplib.SMTP object at 0x0000028502A224A8>\n",
    "\n",
    "    def test_ehlo(smtp_connection):\n",
    "        response, msg = smtp_connection.ehlo()\n",
    "        assert response == 250\n",
    "        assert b\"smtp.gmail.com\" in msg\n",
    ">       assert 0  # for demo purposes\n",
    "E       assert 0\n",
    "\n",
    "test_module.py:8: AssertionError\n",
    "__________________________ test_noop[smtp.gmail.com] __________________________\n",
    "\n",
    "smtp_connection = <smtplib.SMTP object at 0x0000028502A224A8>\n",
    "\n",
    "    def test_noop(smtp_connection):\n",
    "        response, msg = smtp_connection.noop()\n",
    "        assert response == 250\n",
    ">       assert 0  # for demo purposes\n",
    "E       assert 0\n",
    "\n",
    "test_module.py:14: AssertionError\n",
    "_________________________ test_ehlo[mail.python.org] __________________________\n",
    "\n",
    "smtp_connection = <smtplib.SMTP object at 0x0000028502A22588>\n",
    "\n",
    "    def test_ehlo(smtp_connection):\n",
    "        response, msg = smtp_connection.ehlo()\n",
    "        assert response == 250\n",
    ">       assert b\"smtp.gmail.com\" in msg\n",
    "E       AssertionError: assert b'smtp.gmail.com' in b'mail.python.org\\nPIPELINING\\nSIZE 51200000\\nETRN\\nSTARTTLS\\nAUTH DIGEST-MD5 NTLM CRAM-MD5\\nENHANCEDSTATUSCODES\\n8BITMIME\\nDSN\\nSMTPUTF8'\n",
    "\n",
    "test_module.py:7: AssertionError\n",
    "---------------------------- Captured stdout setup ----------------------------\n",
    "finalizing <smtplib.SMTP object at 0x0000028502A224A8>\n",
    "_________________________ test_noop[mail.python.org] __________________________\n",
    "\n",
    "smtp_connection = <smtplib.SMTP object at 0x0000028502A22588>\n",
    "\n",
    "    def test_noop(smtp_connection):\n",
    "        response, msg = smtp_connection.noop()\n",
    "        assert response == 250\n",
    ">       assert 0  # for demo purposes\n",
    "E       assert 0\n",
    "\n",
    "test_module.py:14: AssertionError\n",
    "-------------------------- Captured stdout teardown ---------------------------\n",
    "finalizing <smtplib.SMTP object at 0x0000028502A22588>\n",
    "4 failed in 0.79 seconds"
   ]
  },
  {
   "cell_type": "markdown",
   "metadata": {},
   "source": [
    "Note how each test ran once with `smtp.gmail.com`, and once with `mail.python.org`. In the second `test_ehlo` run, there was a failure because a different server string is expected than what is actually accessed\n",
    "\n",
    "A test ID will get built for each fixture, like `test_ehlo[mail.python.org]`, and these can be accessed via `-k` to select specific tests. For example, `pytest -q test_module.py -k test_ehlo[mail.python.org]` yields 3 deselected tests:"
   ]
  },
  {
   "cell_type": "raw",
   "metadata": {},
   "source": [
    "F                                                                        [100%]\n",
    "================================== FAILURES ===================================\n",
    "_________________________ test_ehlo[mail.python.org] __________________________\n",
    "\n",
    "smtp_connection = <smtplib.SMTP object at 0x00000229B0382358>\n",
    "\n",
    "    def test_ehlo(smtp_connection):\n",
    "        response, msg = smtp_connection.ehlo()\n",
    "        assert response == 250\n",
    ">       assert b\"smtp.gmail.com\" in msg\n",
    "E       AssertionError: assert b'smtp.gmail.com' in b'mail.python.org\\nPIPELINING\\nSIZE 51200000\\nETRN\\nSTARTTLS\\nAUTH DIGEST-MD5 NTLM CRAM-MD5\\nENHANCEDSTATUSCODES\\n8BITMIME\\nDSN\\nSMTPUTF8'\n",
    "\n",
    "test_module.py:7: AssertionError\n",
    "-------------------------- Captured stdout teardown ---------------------------\n",
    "finalizing <smtplib.SMTP object at 0x00000229B0382358>\n",
    "1 failed, 3 deselected in 0.50 seconds\n",
    "\n",
    "(tutorials) C:\\Users\\kahna\\Documents\\Code\\python-intermediate-tutorials\\pytest_official_tutorial\\3_fixtures>pytest -q test_module.py -k test_ehlo[mail.python.org]"
   ]
  },
  {
   "cell_type": "markdown",
   "metadata": {},
   "source": [
    "To only collect the test IDs, use `pytest --collect-only test_module.py`:"
   ]
  },
  {
   "cell_type": "raw",
   "metadata": {},
   "source": [
    "============================= test session starts =============================\n",
    "platform win32 -- Python 3.7.1, pytest-3.9.1, py-1.7.0, pluggy-0.8.0\n",
    "rootdir: C:\\Users\\kahna\\Documents\\Code\\python-intermediate-tutorials\\pytest_official_tutorial, inifile:\n",
    "collected 8 items\n",
    "<Module '3_fixtures/test_anothersmtp.py'>\n",
    "  <Function 'test_showhelo[smtp.gmail.com]'>\n",
    "  <Function 'test_showhelo[mail.python.org]'>\n",
    "<Module '3_fixtures/test_instatiation_order.py'>\n",
    "  <Function 'test_foo'>\n",
    "<Module '3_fixtures/test_module.py'>\n",
    "  <Function 'test_ehlo[smtp.gmail.com]'>\n",
    "  <Function 'test_noop[smtp.gmail.com]'>\n",
    "  <Function 'test_ehlo[mail.python.org]'>\n",
    "  <Function 'test_noop[mail.python.org]'>\n",
    "<Module '3_fixtures/test_smtpsimple.py'>\n",
    "  <Function 'test_ehlo'>\n",
    "\n",
    "======================== no tests ran in 0.07 seconds =========================\n",
    "\n",
    "(tutorials) C:\\Users\\kahna\\Documents\\Code\\python-intermediate-tutorials\\pytest_official_tutorial\\3_fixtures>pytest --collect-only test_module.py\n",
    "============================= test session starts =============================\n",
    "platform win32 -- Python 3.7.1, pytest-3.9.1, py-1.7.0, pluggy-0.8.0\n",
    "rootdir: C:\\Users\\kahna\\Documents\\Code\\python-intermediate-tutorials\\pytest_official_tutorial, inifile:\n",
    "collected 4 items\n",
    "<Module '3_fixtures/test_module.py'>\n",
    "  <Function 'test_ehlo[smtp.gmail.com]'>\n",
    "  <Function 'test_noop[smtp.gmail.com]'>\n",
    "  <Function 'test_ehlo[mail.python.org]'>\n",
    "  <Function 'test_noop[mail.python.org]'>\n",
    "\n",
    "======================== no tests ran in 0.02 seconds ========================="
   ]
  },
  {
   "cell_type": "markdown",
   "metadata": {},
   "source": [
    "###  Parameter ID specification\n",
    "Numbers, strings, booleans, and `None` will have their typical string representation in the test ID. For other objects, pytest will make a string based on the argument name, but the ID name can be customized via the `ids` keyword:"
   ]
  },
  {
   "cell_type": "code",
   "execution_count": 14,
   "metadata": {},
   "outputs": [],
   "source": [
    "# content of test_ids.py\n",
    "import pytest\n",
    "\n",
    "@pytest.fixture(params=[0, 1], ids=[\"spam\", \"ham\"])\n",
    "def a(request):\n",
    "    return request.param\n",
    "\n",
    "def test_a(a):\n",
    "    pass\n",
    "\n",
    "def idfn(fixture_value):\n",
    "    if fixture_value == 0:\n",
    "        return \"eggs\"\n",
    "    else:\n",
    "        return None\n",
    "\n",
    "@pytest.fixture(params=[0, 1], ids=idfn)\n",
    "def b(request):\n",
    "    return request.param\n",
    "\n",
    "def test_b(b):\n",
    "    pass"
   ]
  },
  {
   "cell_type": "markdown",
   "metadata": {},
   "source": [
    "Notice how the the `ids` keyword is used with a list in the parametrization of `a`, and with the `idfn` function in  the parametrization of `b`\n",
    "\n",
    "The collection of test IDs, `pytest --collect-only test_ids.py`, yields:"
   ]
  },
  {
   "cell_type": "raw",
   "metadata": {},
   "source": [
    "============================= test session starts =============================\n",
    "platform win32 -- Python 3.7.1, pytest-3.9.1, py-1.7.0, pluggy-0.8.0\n",
    "rootdir: C:\\Users\\kahna\\Documents\\Code\\python-intermediate-tutorials\\pytest_official_tutorial, inifile:\n",
    "collected 4 items\n",
    "<Module '3_fixtures/test_ids.py'>\n",
    "  <Function 'test_a[spam]'>\n",
    "  <Function 'test_a[ham]'>\n",
    "  <Function 'test_b[eggs]'>\n",
    "  <Function 'test_b[1]'>\n",
    "\n",
    "======================== no tests ran in 0.02 seconds ========================="
   ]
  },
  {
   "cell_type": "markdown",
   "metadata": {},
   "source": [
    "Note how `a` had \"hard-coded\" IDs, but `b` had functionally-defined IDs. Additionally, since `idfn` returned `None` for `b`, the id for the parameterized `1` `param` came out to simply `1`"
   ]
  },
  {
   "cell_type": "markdown",
   "metadata": {},
   "source": [
    "## [Using marks with parametrized fixtures](https://docs.pytest.org/en/latest/fixture.html#using-marks-with-parametrized-fixtures)\n",
    "Marks can be applied to fixture parametrizations via `pytest.param()`:"
   ]
  },
  {
   "cell_type": "code",
   "execution_count": 15,
   "metadata": {},
   "outputs": [],
   "source": [
    "# content of test_fixture_marks.py\n",
    "import pytest\n",
    "@pytest.fixture(params=[0, 1, pytest.param(2, marks=pytest.mark.skip)])\n",
    "def data_set(request):\n",
    "    return request.param\n",
    "\n",
    "def test_data(data_set):\n",
    "    pass"
   ]
  },
  {
   "cell_type": "markdown",
   "metadata": {},
   "source": [
    "Run the test via `pytest test_fixture_marks.py -v` and note that the value `2` is skipped:"
   ]
  },
  {
   "cell_type": "raw",
   "metadata": {},
   "source": [
    "============================= test session starts =============================\n",
    "platform win32 -- Python 3.7.1, pytest-3.9.1, py-1.7.0, pluggy-0.8.0 -- C:\\Users\\kahna\\AppData\\Local\\Continuum\\anaconda3\\envs\\tutorials\\python.exe\n",
    "cachedir: .pytest_cache\n",
    "rootdir: C:\\Users\\kahna\\Documents\\Code\\python-intermediate-tutorials\\pytest_official_tutorial, inifile:\n",
    "collected 3 items\n",
    "\n",
    "test_fixture_marks.py::test_data[0] PASSED                               [ 33%]\n",
    "test_fixture_marks.py::test_data[1] PASSED                               [ 66%]\n",
    "test_fixture_marks.py::test_data[2] SKIPPED                              [100%]\n",
    "\n",
    "===================== 2 passed, 1 skipped in 0.03 seconds ====================="
   ]
  },
  {
   "cell_type": "markdown",
   "metadata": {},
   "source": [
    "## [Modularity: using fixtures from a fixture function](https://docs.pytest.org/en/latest/fixture.html#modularity-using-fixtures-from-a-fixture-function)\n",
    "Fixtures can also call other fixtures:"
   ]
  },
  {
   "cell_type": "code",
   "execution_count": 16,
   "metadata": {},
   "outputs": [],
   "source": [
    "# content of test_appsetup.py\n",
    "\n",
    "import pytest\n",
    "\n",
    "class App(object):\n",
    "    def __init__(self, smtp_connection):\n",
    "        self.smtp_connection = smtp_connection\n",
    "\n",
    "@pytest.fixture(scope=\"module\")\n",
    "def app(smtp_connection):\n",
    "    return App(smtp_connection)\n",
    "\n",
    "def test_smtp_connection_exists(app):\n",
    "    assert app.smtp_connection"
   ]
  },
  {
   "cell_type": "markdown",
   "metadata": {},
   "source": [
    "In this case, the `app` fixture is defined, which receives the previously-defined `smtp_connection` fixture (from `conftest.py`) and instantiates an `App` object with it\n",
    "\n",
    "Run via `pytest -v test_appsetup.py`:"
   ]
  },
  {
   "cell_type": "raw",
   "metadata": {},
   "source": [
    "============================= test session starts =============================\n",
    "platform win32 -- Python 3.7.1, pytest-3.9.1, py-1.7.0, pluggy-0.8.0 -- C:\\Users\\kahna\\AppData\\Local\\Continuum\\anaconda3\\envs\\tutorials\\python.exe\n",
    "cachedir: .pytest_cache\n",
    "rootdir: C:\\Users\\kahna\\Documents\\Code\\python-intermediate-tutorials\\pytest_official_tutorial, inifile:\n",
    "collected 2 items\n",
    "\n",
    "test_appsetup.py::test_smtp_connection_exists[smtp.gmail.com] PASSED     [ 50%]\n",
    "test_appsetup.py::test_smtp_connection_exists[mail.python.org] PASSED    [100%]\n",
    "\n",
    "========================== 2 passed in 0.78 seconds ==========================="
   ]
  },
  {
   "cell_type": "markdown",
   "metadata": {},
   "source": [
    "Since `smtp_connection` has been parametrized in `conftest.py`, the test runs twice with two `App` instances, even though the `app` fixture is not aware of this parametrization\n",
    "\n",
    "The `app` fixture has a scope of `module` and uses a `module`-scoped `smtp_connection` fixture (from most-recent definition of conftest.py)\n",
    "\n",
    "The example would still work if `smtp_connection` was on a `session` scope, which is broader than the `app`'s `module` scope, but the example wouldn't work if a fixture (`app`) was trying to use a less-broadly-scoped fixture `smtp_connection`"
   ]
  },
  {
   "cell_type": "markdown",
   "metadata": {},
   "source": [
    "## [Automatic grouping of tests by fixture instances](https://docs.pytest.org/en/latest/fixture.html#automatic-grouping-of-tests-by-fixture-instances)\n",
    "pytest automatically optimizes the order of test fixtures to reduce the cost of testing:"
   ]
  },
  {
   "cell_type": "code",
   "execution_count": 17,
   "metadata": {},
   "outputs": [],
   "source": [
    "# content of test_module2.py\n",
    "import pytest\n",
    "\n",
    "@pytest.fixture(scope=\"module\", params=[\"mod1\", \"mod2\"])\n",
    "def modarg(request):\n",
    "    param = request.param\n",
    "    print (\"  SETUP modarg %s\" % param)\n",
    "    yield param\n",
    "    print (\"  TEARDOWN modarg %s\" % param)\n",
    "\n",
    "@pytest.fixture(scope=\"function\", params=[1,2])\n",
    "def otherarg(request):\n",
    "    param = request.param\n",
    "    print (\"  SETUP otherarg %s\" % param)\n",
    "    yield param\n",
    "    print (\"  TEARDOWN otherarg %s\" % param)\n",
    "\n",
    "def test_0(otherarg):\n",
    "    print (\"  RUN test0 with otherarg %s\" % otherarg)\n",
    "def test_1(modarg):\n",
    "    print (\"  RUN test1 with modarg %s\" % modarg)\n",
    "def test_2(otherarg, modarg):\n",
    "    print (\"  RUN test2 with otherarg %s and modarg %s\" % (otherarg, modarg))"
   ]
  },
  {
   "cell_type": "markdown",
   "metadata": {},
   "source": [
    "The example uses two parametrized fixtures, `modarg` (`module` scope), and `otherarg` (`function` scope)\n",
    "\n",
    "Run in verbose mode and inspect the print output via `pytest -v -s test_module2.py`:"
   ]
  },
  {
   "cell_type": "raw",
   "metadata": {},
   "source": [
    "====================================== test session starts ======================================\n",
    "platform win32 -- Python 3.7.1, pytest-3.9.1, py-1.7.0, pluggy-0.8.0 -- C:\\Users\\kahna\\AppData\\Local\\Continuum\\anaconda3\\envs\\tutorials\\python.exe\n",
    "cachedir: .pytest_cache\n",
    "rootdir: C:\\Users\\kahna\\Documents\\Code\\python-intermediate-tutorials\\pytest_official_tutorial, inifile:\n",
    "collected 8 items\n",
    "\n",
    "test_module2.py::test_0[1]   SETUP otherarg 1\n",
    "  RUN test0 with otherarg 1\n",
    "PASSED  TEARDOWN otherarg 1\n",
    "\n",
    "test_module2.py::test_0[2]   SETUP otherarg 2\n",
    "  RUN test0 with otherarg 2\n",
    "PASSED  TEARDOWN otherarg 2\n",
    "\n",
    "test_module2.py::test_1[mod1]   SETUP modarg mod1\n",
    "  RUN test1 with modarg mod1\n",
    "PASSED\n",
    "test_module2.py::test_2[mod1-1]   SETUP otherarg 1\n",
    "  RUN test2 with otherarg 1 and modarg mod1\n",
    "PASSED  TEARDOWN otherarg 1\n",
    "\n",
    "test_module2.py::test_2[mod1-2]   SETUP otherarg 2\n",
    "  RUN test2 with otherarg 2 and modarg mod1\n",
    "PASSED  TEARDOWN otherarg 2\n",
    "\n",
    "test_module2.py::test_1[mod2]   TEARDOWN modarg mod1\n",
    "  SETUP modarg mod2\n",
    "  RUN test1 with modarg mod2\n",
    "PASSED\n",
    "test_module2.py::test_2[mod2-1]   SETUP otherarg 1\n",
    "  RUN test2 with otherarg 1 and modarg mod2\n",
    "PASSED  TEARDOWN otherarg 1\n",
    "\n",
    "test_module2.py::test_2[mod2-2]   SETUP otherarg 2\n",
    "  RUN test2 with otherarg 2 and modarg mod2\n",
    "PASSED  TEARDOWN otherarg 2\n",
    "  TEARDOWN modarg mod2"
   ]
  },
  {
   "cell_type": "markdown",
   "metadata": {},
   "source": [
    "pytest attempts to keep the fewest number of active resources, and as a result `test_0` completes first since it used a `function` scoped fixture\n",
    "\n",
    "Additionally, `test_1` and `test_2` runs are shuffled around to keep the minumum number of active resources"
   ]
  },
  {
   "cell_type": "markdown",
   "metadata": {},
   "source": [
    "## [Using fixtures from classes, modules or projects](https://docs.pytest.org/en/latest/fixture.html#using-fixtures-from-classes-modules-or-projects)\n",
    "Sometimes test functions don't need direct access to a fixture object. For example, a test might need to be in an empty directory but the actual path is unimportant. A `tempfile` can be used with fixtures for this example, and an updated `conftest.py`:"
   ]
  },
  {
   "cell_type": "code",
   "execution_count": 18,
   "metadata": {},
   "outputs": [],
   "source": [
    "# content of conftest.py\n",
    "\n",
    "import pytest\n",
    "import tempfile\n",
    "import os\n",
    "\n",
    "@pytest.fixture()\n",
    "def cleandir():\n",
    "    newpath = tempfile.mkdtemp()\n",
    "    os.chdir(newpath)"
   ]
  },
  {
   "cell_type": "markdown",
   "metadata": {},
   "source": [
    "Declare use of the `cleandir` fixture via the `usefixtures` marker:"
   ]
  },
  {
   "cell_type": "code",
   "execution_count": 19,
   "metadata": {},
   "outputs": [],
   "source": [
    "# content of test_setenv.py\n",
    "import os\n",
    "import pytest\n",
    "\n",
    "@pytest.mark.usefixtures(\"cleandir\")\n",
    "class TestDirectoryInit(object):\n",
    "    def test_cwd_starts_empty(self):\n",
    "        assert os.listdir(os.getcwd()) == []\n",
    "        with open(\"myfile\", \"w\") as f:\n",
    "            f.write(\"hello\")\n",
    "\n",
    "    def test_cwd_again_starts_empty(self):\n",
    "        assert os.listdir(os.getcwd()) == []"
   ]
  },
  {
   "cell_type": "markdown",
   "metadata": {},
   "source": [
    "Since the `usefixtures` marker has been used, the `cleandir` fixture will be for the execution of each test method as if a `cleandir` argument had been specified to each function\n",
    "\n",
    "To run, use `pytest -v test_setenv.py`:"
   ]
  },
  {
   "cell_type": "raw",
   "metadata": {},
   "source": [
    "============================= test session starts =============================\n",
    "platform win32 -- Python 3.7.1, pytest-3.9.1, py-1.7.0, pluggy-0.8.0 -- C:\\Users\\kahna\\AppData\\Local\\Continuum\\anaconda3\\envs\\tutorials\\python.exe\n",
    "cachedir: .pytest_cache\n",
    "rootdir: C:\\Users\\kahna\\Documents\\Code\\python-intermediate-tutorials\\pytest_official_tutorial, inifile:\n",
    "collected 2 items\n",
    "\n",
    "test_setenv.py::TestDirectoryInit::test_cwd_starts_empty PASSED          [ 50%]\n",
    "test_setenv.py::TestDirectoryInit::test_cwd_again_starts_empty PASSED    [100%]\n",
    "\n",
    "========================== 2 passed in 0.02 seconds ==========================="
   ]
  },
  {
   "cell_type": "markdown",
   "metadata": {},
   "source": [
    "Since both tests passed, it is confirmed that the `tempfile` made a new blank temporary directory each time (note how the first test wrote a file first)\n",
    "\n",
    "Multiple fixtures can be used via:"
   ]
  },
  {
   "cell_type": "code",
   "execution_count": 21,
   "metadata": {},
   "outputs": [],
   "source": [
    "@pytest.mark.usefixtures(\"cleandir\", \"anotherfixture\")\n",
    "def test():\n",
    "    ..."
   ]
  },
  {
   "cell_type": "markdown",
   "metadata": {},
   "source": [
    "Additionally, this can be accomplished a tthe test module level using a generic feature of the mark mechanism:"
   ]
  },
  {
   "cell_type": "code",
   "execution_count": 22,
   "metadata": {},
   "outputs": [],
   "source": [
    "pytestmark = pytest.mark.usefixtures(\"cleandir\")"
   ]
  },
  {
   "cell_type": "markdown",
   "metadata": {},
   "source": [
    "Using this in the above sample results in the modifications:"
   ]
  },
  {
   "cell_type": "code",
   "execution_count": 23,
   "metadata": {},
   "outputs": [],
   "source": [
    "# @pytest.mark.usefixtures(\"cleandir\")  # Via decorator\n",
    "class TestDirectoryInit(object):\n",
    "    pytestmark = pytest.mark.usefixtures(\"cleandir\")  # Via mark call\n",
    "\n",
    "    def test_cwd_starts_empty(self):\n",
    "        assert os.listdir(os.getcwd()) == []\n",
    "        with open(\"myfile\", \"w\") as f:\n",
    "            f.write(\"hello\")\n",
    "\n",
    "    def test_cwd_again_starts_empty(self):\n",
    "        assert os.listdir(os.getcwd()) == []"
   ]
  },
  {
   "cell_type": "markdown",
   "metadata": {},
   "source": [
    "Note how the fixture is assigned via the first line in the class definition, and that the original decorator has been commented out\n",
    "\n",
    "The assigned variable **must** be called `pytestmark`, for example `foomark` will not work\n",
    "\n",
    "### Warning: can't apply to fixture functions\n",
    "The `usefixtures` mark has no effect in **fixture functions**:"
   ]
  },
  {
   "cell_type": "code",
   "execution_count": 24,
   "metadata": {},
   "outputs": [],
   "source": [
    "@pytest.mark.usefixtures(\"my_other_fixture\")\n",
    "@pytest.fixture\n",
    "def my_fixture_that_sadly_wont_use_my_other_fixture():\n",
    "    ..."
   ]
  },
  {
   "cell_type": "markdown",
   "metadata": {},
   "source": [
    "No warning or error will be generated, but there will simply be no additional fixture attachments"
   ]
  },
  {
   "cell_type": "markdown",
   "metadata": {},
   "source": [
    "## [Autouse fixtures (xUnit setup on steroids)](https://docs.pytest.org/en/latest/fixture.html#autouse-fixtures-xunit-setup-on-steroids)\n",
    "Fixtures can get invoked automatically without declaring a function argument or using the `usefixtures` decorator\n",
    "\n",
    "For example, consider a fixture is needed which has a begin/rollback/commit architecture and each test method should be automatically surrounded by a transaction and a rollback:"
   ]
  },
  {
   "cell_type": "code",
   "execution_count": 25,
   "metadata": {},
   "outputs": [],
   "source": [
    "# content of test_db_transact.py\n",
    "\n",
    "import pytest\n",
    "\n",
    "class DB(object):\n",
    "    def __init__(self):\n",
    "        self.intransaction = []\n",
    "    def begin(self, name):\n",
    "        self.intransaction.append(name)\n",
    "    def rollback(self):\n",
    "        self.intransaction.pop()\n",
    "\n",
    "@pytest.fixture(scope=\"module\")\n",
    "def db():\n",
    "    return DB()\n",
    "\n",
    "class TestClass(object):\n",
    "    @pytest.fixture(autouse=True)\n",
    "    def transact(self, request, db):\n",
    "        db.begin(request.function.__name__)\n",
    "        yield\n",
    "        db.rollback()\n",
    "\n",
    "    def test_method1(self, db):\n",
    "        assert db.intransaction == [\"test_method1\"]\n",
    "\n",
    "    def test_method2(self, db):\n",
    "        assert db.intransaction == [\"test_method2\"]"
   ]
  },
  {
   "cell_type": "markdown",
   "metadata": {},
   "source": [
    "The class-level `transact` fixture is marked with `autouse=true` which implies that all methods in the class will use the fixture without a need to state it in the test function signature or with a class-level `usefixtures` decorator\n",
    "\n",
    "In this case, the name of each `test_method` has been appended to the `intransaction` ledger, which tracks which test is using the resource. Since the asserts are both passed, it is demonstrated that the resource has been appropriately released after use by each test\n",
    "\n",
    "In other scopes:\n",
    "1. autouse fixtures use the `scope=` keyword-argument: if an autouse fixture has `scope='session'`, it will only be run once, no matter where it is defined\n",
    "1. `scope='class'` means an autouse fixture will run once per class, etc\n",
    "1. if an autouse fixture is defined in a module, all test functions automatically use it\n",
    "1. If an autouse is defined in conftest.py, all tests in all test modules below its directory will use the fixture\n",
    "1. There are additional considerations for use of fixtures in plugins"
   ]
  },
  {
   "cell_type": "markdown",
   "metadata": {},
   "source": [
    "## [Overriding fixtures on various levels](https://docs.pytest.org/en/latest/fixture.html#overriding-fixtures-on-various-levels)\n",
    "In a large test suite, it may be necessary to `override` a `global` or `root` fixture with a `locally` defined one to keep code readable and maintainable\n",
    "### [Override a fixture on a folder (conftest) level](https://docs.pytest.org/en/latest/fixture.html#override-a-fixture-on-a-folder-conftest-level)\n",
    "Consider the test file structure:"
   ]
  },
  {
   "cell_type": "code",
   "execution_count": null,
   "metadata": {},
   "outputs": [],
   "source": [
    "tests/\n",
    "    __init__.py\n",
    "\n",
    "    conftest.py\n",
    "        # content of tests/conftest.py\n",
    "        import pytest\n",
    "\n",
    "        @pytest.fixture\n",
    "        def username():\n",
    "            return 'username'\n",
    "\n",
    "    test_something.py\n",
    "        # content of tests/test_something.py\n",
    "        def test_username(username):\n",
    "            assert username == 'username'\n",
    "\n",
    "    subfolder/\n",
    "        __init__.py\n",
    "\n",
    "        conftest.py\n",
    "            # content of tests/subfolder/conftest.py\n",
    "            import pytest\n",
    "\n",
    "            @pytest.fixture\n",
    "            def username(username):\n",
    "                return 'overridden-' + username\n",
    "\n",
    "        test_something.py\n",
    "            # content of tests/subfolder/test_something.py\n",
    "            def test_username(username):\n",
    "                assert username == 'overridden-username'"
   ]
  },
  {
   "cell_type": "markdown",
   "metadata": {},
   "source": [
    "The `base` or `super` fixture can be simply overriden for a certain test folder level by defining a fixture with the same name (`username`) as above, for which the returned value changes"
   ]
  },
  {
   "cell_type": "markdown",
   "metadata": {},
   "source": [
    "### [Override a fixture on a test module level](https://docs.pytest.org/en/latest/fixture.html#override-a-fixture-on-a-test-module-level)\n",
    "Consider the test file structure:"
   ]
  },
  {
   "cell_type": "code",
   "execution_count": null,
   "metadata": {},
   "outputs": [],
   "source": [
    "tests/\n",
    "    __init__.py\n",
    "\n",
    "    conftest.py\n",
    "        # content of tests/conftest.py\n",
    "        @pytest.fixture\n",
    "        def username():\n",
    "            return 'username'\n",
    "\n",
    "    test_something.py\n",
    "        # content of tests/test_something.py\n",
    "        import pytest\n",
    "\n",
    "        @pytest.fixture\n",
    "        def username(username):\n",
    "            return 'overridden-' + username\n",
    "\n",
    "        def test_username(username):\n",
    "            assert username == 'overridden-username'\n",
    "\n",
    "    test_something_else.py\n",
    "        # content of tests/test_something_else.py\n",
    "        import pytest\n",
    "\n",
    "        @pytest.fixture\n",
    "        def username(username):\n",
    "            return 'overridden-else-' + username\n",
    "\n",
    "        def test_username(username):\n",
    "            assert username == 'overridden-else-username'"
   ]
  },
  {
   "cell_type": "markdown",
   "metadata": {},
   "source": [
    "In this case, the fixture with the name `username` has been overriden for specific test modules\n",
    "### [Override a fixture with direct test parametrization](https://docs.pytest.org/en/latest/fixture.html#override-a-fixture-with-direct-test-parametrization)\n",
    "Consider the test file structure:"
   ]
  },
  {
   "cell_type": "code",
   "execution_count": null,
   "metadata": {},
   "outputs": [],
   "source": [
    "tests/\n",
    "    __init__.py\n",
    "\n",
    "    conftest.py\n",
    "        # content of tests/conftest.py\n",
    "        import pytest\n",
    "\n",
    "        @pytest.fixture\n",
    "        def username():\n",
    "            return 'username'\n",
    "\n",
    "        @pytest.fixture\n",
    "        def other_username(username):\n",
    "            return 'other-' + username\n",
    "\n",
    "    test_something.py\n",
    "        # content of tests/test_something.py\n",
    "        import pytest\n",
    "\n",
    "        @pytest.mark.parametrize('username', ['directly-overridden-username'])\n",
    "        def test_username(username):\n",
    "            assert username == 'directly-overridden-username'\n",
    "\n",
    "        @pytest.mark.parametrize('username', ['directly-overridden-username-other'])\n",
    "        def test_username_other(other_username):\n",
    "            assert other_username == 'other-directly-overridden-username-other'"
   ]
  },
  {
   "cell_type": "markdown",
   "metadata": {},
   "source": [
    "Note in this case that test parametrization has been used to directly override the value of `username`, even though the `username` fixture has been used to return a value on its own\n",
    "\n",
    "In the second test, note how `username` isn't substituted until it is called in the `other_username` fixture\n",
    "### [Override a parametrized fixture with non-parametrized one and vice versa](https://docs.pytest.org/en/latest/fixture.html#override-a-parametrized-fixture-with-non-parametrized-one-and-vice-versa)\n",
    "Consider the test file structure:"
   ]
  },
  {
   "cell_type": "code",
   "execution_count": null,
   "metadata": {},
   "outputs": [],
   "source": [
    "tests/\n",
    "    __init__.py\n",
    "\n",
    "    conftest.py\n",
    "        # content of tests/conftest.py\n",
    "        import pytest\n",
    "\n",
    "        @pytest.fixture(params=['one', 'two', 'three'])\n",
    "        def parametrized_username(request):\n",
    "            return request.param\n",
    "\n",
    "        @pytest.fixture\n",
    "        def non_parametrized_username(request):\n",
    "            return 'username'\n",
    "\n",
    "    test_something.py\n",
    "        # content of tests/test_something.py\n",
    "        import pytest\n",
    "\n",
    "        @pytest.fixture\n",
    "        def parametrized_username():\n",
    "            return 'overridden-username'\n",
    "\n",
    "        @pytest.fixture(params=['one', 'two', 'three'])\n",
    "        def non_parametrized_username(request):\n",
    "            return request.param\n",
    "\n",
    "        def test_username(parametrized_username):\n",
    "            assert parametrized_username == 'overridden-username'\n",
    "\n",
    "        def test_parametrized_username(non_parametrized_username):\n",
    "            assert non_parametrized_username in ['one', 'two', 'three']\n",
    "\n",
    "    test_something_else.py\n",
    "        # content of tests/test_something_else.py\n",
    "        def test_username(parametrized_username):\n",
    "            assert parametrized_username in ['one', 'two', 'three']\n",
    "\n",
    "        def test_username(non_parametrized_username):\n",
    "            assert non_parametrized_username == 'username'"
   ]
  },
  {
   "cell_type": "markdown",
   "metadata": {},
   "source": [
    "Note how a parametrized fixture is overridden by a non-parametrized version, and vice versa, but just inside of `test_something.py`"
   ]
  }
 ],
 "metadata": {
  "kernelspec": {
   "display_name": "Python 3",
   "language": "python",
   "name": "python3"
  },
  "language_info": {
   "codemirror_mode": {
    "name": "ipython",
    "version": 3
   },
   "file_extension": ".py",
   "mimetype": "text/x-python",
   "name": "python",
   "nbconvert_exporter": "python",
   "pygments_lexer": "ipython3",
   "version": "3.7.0"
  },
  "toc": {
   "base_numbering": 1,
   "nav_menu": {},
   "number_sections": true,
   "sideBar": true,
   "skip_h1_title": false,
   "title_cell": "Table of Contents",
   "title_sidebar": "Contents",
   "toc_cell": true,
   "toc_position": {},
   "toc_section_display": true,
   "toc_window_display": false
  }
 },
 "nbformat": 4,
 "nbformat_minor": 2
}
