{
 "cells": [
  {
   "cell_type": "code",
   "execution_count": 1,
   "metadata": {},
   "outputs": [
    {
     "data": {
      "text/html": [
       "<iframe width=\"400\" height=\"225\"\n",
       "src=\"https://www.youtube.com/embed/l32bsaIDoWk?list=PLeo1K3hjS3utzQYDNRNluzqJqpMXx6hHu\" allowfullscreen></iframe>"
      ],
      "text/plain": [
       "<IPython.core.display.HTML object>"
      ]
     },
     "metadata": {},
     "output_type": "display_data"
    }
   ],
   "source": [
    "%%HTML\n",
    "<iframe width=\"400\" height=\"225\"\n",
    "src=\"https://www.youtube.com/embed/l32bsaIDoWk?list=PLeo1K3hjS3utzQYDNRNluzqJqpMXx6hHu\" allowfullscreen></iframe>"
   ]
  },
  {
   "cell_type": "markdown",
   "metadata": {},
   "source": [
    "# Running tests inside Jupyter\n",
    "The snippet below allows for unitttest to be called inside Jupyter per https://medium.com/@vladbezden/using-python-unittest-in-ipython-or-jupyter-732448724e31"
   ]
  },
  {
   "cell_type": "code",
   "execution_count": 2,
   "metadata": {},
   "outputs": [
    {
     "name": "stderr",
     "output_type": "stream",
     "text": [
      "\n",
      "----------------------------------------------------------------------\n",
      "Ran 0 tests in 0.000s\n",
      "\n",
      "OK\n"
     ]
    }
   ],
   "source": [
    "import unittest\n",
    "if __name__ == '__main__':\n",
    "    unittest.main(argv=['first-arg-is-ignored'], exit=False)"
   ]
  },
  {
   "cell_type": "markdown",
   "metadata": {},
   "source": [
    "# Pytest general info\n",
    "1. Pytest is a package that is included with Anaconda.\n",
    "2. Examples are for `test_mathlib.py`, which will be testing mathlib.py.\n",
    "3. All test functions must start with `test_`, and the test module must be `test_MODULENAME.py`\n",
    "4. Pytest runs recursively"
   ]
  },
  {
   "cell_type": "code",
   "execution_count": 3,
   "metadata": {},
   "outputs": [],
   "source": [
    "def test_calc_total():  # Must start with test_\n",
    "    pass"
   ]
  },
  {
   "cell_type": "markdown",
   "metadata": {},
   "source": [
    "# \\_\\_init\\_\\_.py\n",
    "This simple structure has the folders `pytest-automated-testing\\src` and `pytest-automated-testing\\test` as relevant directories, with `pytest-automated-testing` being the \"project root\"\n",
    "\n",
    "From [Python.org documentation](https://docs.python.org/3/tutorial/modules.html#packages), a package requires a `__init__.py` file. Thus, an empty `__init__.py` file in the src folder will be sufficient, but some other references recommend the following:\n",
    "\n",
    "Make an `__init__.py` file in the `src` directory that contains a variable declaring the name of all files to be included. For example, if the files in the project are\n",
    "1. `mathlib.py` (in `src`)\n",
    "2. `textlib.py` (in `src`)\n",
    "3. `test_mathlib.py` (in `test`)\n",
    "4. `test_textlib.py` (in `test`)\n",
    "\n",
    "\n",
    "then `__init__.py` should have:"
   ]
  },
  {
   "cell_type": "code",
   "execution_count": 7,
   "metadata": {},
   "outputs": [],
   "source": [
    "__all__ = ['mathlib', 'textlib']  # Inside __init__.py of src directory"
   ]
  },
  {
   "cell_type": "markdown",
   "metadata": {},
   "source": [
    "Note\n",
    "1. `test_MODULENAME.py` files should not to be listed in this variable\n",
    "2. `__init__.py` in the `test` directory may cause `py.test` command (below) to fail"
   ]
  },
  {
   "cell_type": "markdown",
   "metadata": {},
   "source": [
    "# setup.py configuration\n",
    "**Activate the correct Anaconda environment before beginning**\n",
    "\n",
    "In accordance with [pytest v3.9.1 documentation](https://docs.pytest.org/en/3.9.1/goodpractices.html), it is recommended that there be a `setup.py` file in the root of the project directory with the following minimum content:"
   ]
  },
  {
   "cell_type": "code",
   "execution_count": null,
   "metadata": {},
   "outputs": [],
   "source": [
    "from setuptools import setup, find_packages\n",
    "\n",
    "setup(name=\"PACKAGENAME\", packages=find_packages())"
   ]
  },
  {
   "cell_type": "markdown",
   "metadata": {},
   "source": [
    "For this tutorial example, the file is inside the `pytest_automated_testing` root directory and the `name` variable is `pytest_automated_testing`. Then, run the command `pip install -e .` from inside the root of the project directory\n",
    "\n",
    "To see packages installed via this procedure, use `conda list` in Anaconda Prompt. For example, after tunning the `pip install -e .` command above, Anaconda shows:"
   ]
  },
  {
   "cell_type": "raw",
   "metadata": {},
   "source": [
    "(tutorials) C:\\Users\\kahna\\PycharmProjects\\python-intermediate-tutorials\\pytest_automated_testing>conda list\n",
    "# packages in environment at C:\\Users\\kahna\\AppData\\Local\\Continuum\\anaconda3\\envs\\tutorials:\n",
    "#\n",
    "# Name                    Version                   Build  Channel\n",
    "atomicwrites              1.2.1                    py37_0\n",
    "attrs                     18.2.0           py37h28b3542_0\n",
    "certifi                   2018.10.15               py37_0\n",
    "colorama                  0.4.0                    py37_0\n",
    "more-itertools            4.3.0                    py37_0\n",
    "pip                       10.0.1                   py37_0\n",
    "pluggy                    0.8.0                    py37_0\n",
    "py                        1.7.0                    py37_0\n",
    "pytest                    3.9.1                    py37_0\n",
    "pytest-automated-testing  0.0.0                     <pip>\n",
    "python                    3.7.1                h33f27b4_3\n",
    "setuptools                40.4.3                   py37_0\n",
    "six                       1.11.0                   py37_1\n",
    "src                       0.0.0                     <pip>\n",
    "vc                        14.1                 h0510ff6_4\n",
    "vs2015_runtime            14.15.26706          h3a45250_0\n",
    "wheel                     0.32.2                   py37_0\n",
    "wincertstore              0.2                      py37_0\n",
    "\n",
    "(tutorials) C:\\Users\\kahna\\PycharmProjects\\python-intermediate-tutorials\\pytest_automated_testing>"
   ]
  },
  {
   "cell_type": "markdown",
   "metadata": {},
   "source": [
    "In this case, `pytest-automated-testing` and `src` have been imported with `<pip>` in the `Build` column\n",
    "\n",
    "Note that `package.module` syntax must be used in imports in the following forms for the `import` mechanism to function properly:"
   ]
  },
  {
   "cell_type": "code",
   "execution_count": null,
   "metadata": {},
   "outputs": [],
   "source": [
    "import src.mathlib ...  # Or from src.mathlib, etc.."
   ]
  },
  {
   "cell_type": "markdown",
   "metadata": {},
   "source": [
    "To uninstall the package, use\n",
    "\n",
    "`pip uninstall PACKAGENAME`\n",
    "\n",
    "In this case, `PACKAGENAME` is `pytest-automated-testing`. Then check `conda list` one more time to verify the `<pip>` package has disappeared."
   ]
  },
  {
   "cell_type": "markdown",
   "metadata": {},
   "source": [
    "# conda develop configuration (hack)\n",
    "From inside the root directory, in this example `pytest_automated_testing`, run the command\n",
    "\n",
    "`conda develop src`\n",
    "\n",
    "1. This will allow files in the src directory to be accessed by the tests in the `tests` directory\n",
    "2. After running this once, the command may not be needed again, even after machine reboot\n",
    "3. See [`conda develop`](https://conda.io/docs/commands/build/conda-develop.html) documentation on how to uninstall the package later\n",
    "4. Note that data is stored in the `ENVIROMENT_DIR\\Lib\\site-packages\\conda.pth` file\n",
    "\n",
    "**Note that this is not recommended by PyTest**"
   ]
  },
  {
   "cell_type": "markdown",
   "metadata": {},
   "source": [
    "# Running pytest from command line (simple)\n",
    "1. From the anaconda terminal inside the `test` directory, use\n",
    "\n",
    "`python -m pytest`\n",
    "2. This will recursively look through all folders and run all tests in all relevant test files\n",
    "3. Relevant files of form `test_MODULENAME.py`, relevant tests of form `test_FUNCTION`"
   ]
  },
  {
   "cell_type": "markdown",
   "metadata": {},
   "source": [
    "# Alternative command line arguments\n",
    "1. A test can also be run by the command\n",
    "\n",
    "`py.test` or simply `pytest`\n",
    "\n",
    "(Note this requires the test file to be added to `__init__.py` in `src` directory)\n",
    "2. For verbose output\n",
    "\n",
    "`py.test -v`"
   ]
  }
 ],
 "metadata": {
  "kernelspec": {
   "display_name": "Python 3",
   "language": "python",
   "name": "python3"
  },
  "language_info": {
   "codemirror_mode": {
    "name": "ipython",
    "version": 3
   },
   "file_extension": ".py",
   "mimetype": "text/x-python",
   "name": "python",
   "nbconvert_exporter": "python",
   "pygments_lexer": "ipython3",
   "version": "3.7.0"
  }
 },
 "nbformat": 4,
 "nbformat_minor": 2
}
