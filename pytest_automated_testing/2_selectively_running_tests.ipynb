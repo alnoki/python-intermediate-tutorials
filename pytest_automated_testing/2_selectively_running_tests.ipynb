{
 "cells": [
  {
   "cell_type": "code",
   "execution_count": 2,
   "metadata": {},
   "outputs": [
    {
     "data": {
      "text/html": [
       "<iframe width=\"400\" height=\"225\" src=\"https://www.youtube.com/embed/nv9zw454bEk?list=PLeo1K3hjS3utzQYDNRNluzqJqpMXx6hHu\"\n",
       "allowfullscreen></iframe>"
      ],
      "text/plain": [
       "<IPython.core.display.HTML object>"
      ]
     },
     "metadata": {},
     "output_type": "display_data"
    }
   ],
   "source": [
    "%%HTML\n",
    "<iframe width=\"400\" height=\"225\" src=\"https://www.youtube.com/embed/nv9zw454bEk?list=PLeo1K3hjS3utzQYDNRNluzqJqpMXx6hHu\"\n",
    "allowfullscreen></iframe>"
   ]
  },
  {
   "cell_type": "markdown",
   "metadata": {},
   "source": [
    "# Always skipping a unit test\n",
    "In test_mathlib.py, the `test_calc_total` test can been decorated with \n",
    "a decorator that specifies the test should not run:"
   ]
  },
  {
   "cell_type": "code",
   "execution_count": null,
   "metadata": {},
   "outputs": [],
   "source": [
    "@pytest.mark.skip(reason=\"Not running for current test case\")\n",
    "def test_calc_total():\n",
    "    ..."
   ]
  },
  {
   "cell_type": "markdown",
   "metadata": {},
   "source": [
    "After executing `py.test -v -rxs` from the Anaconda prompt inside the project folder, the following results are obtained:"
   ]
  },
  {
   "cell_type": "raw",
   "metadata": {},
   "source": [
    "(base) C:\\Users\\kahna\\PycharmProjects\\python-intermediate-tutorials\\pytest_automated_testing>py.test -v -rxs\n",
    "============================= test session starts =============================\n",
    "platform win32 -- Python 3.7.0, pytest-3.8.0, py-1.6.0, pluggy-0.7.1 -- C:\\Users\\kahna\\AppData\\Local\\Continuum\\anaconda3\\python.exe\n",
    "cachedir: .pytest_cache\n",
    "rootdir: C:\\Users\\kahna\\PycharmProjects\\python-intermediate-tutorials\\pytest_automated_testing, inifile:\n",
    "plugins: remotedata-0.3.0, openfiles-0.3.0, doctestplus-0.1.3, arraydiff-0.2\n",
    "collected 2 items\n",
    "\n",
    "test/test_mathlib.py::test_calc_total SKIPPED                            [ 50%]\n",
    "test/test_mathlib.py::test_calc_multiply PASSED                          [100%]\n",
    "=========================== short test summary info ===========================\n",
    "SKIP [1] test\\test_mathlib.py:8: Not running for current test case"
   ]
  },
  {
   "cell_type": "markdown",
   "metadata": {},
   "source": [
    "This can also leave off the `-v` or `-rxs` arguments and the test will still run"
   ]
  },
  {
   "cell_type": "markdown",
   "metadata": {},
   "source": [
    "# Conditionally skipping a unit test\n",
    "In test_mathlib.py, the `test_calc_total` test can been decorated with \n",
    "a decorator that specifies the test should not run if Python version is greater than 3.5:"
   ]
  },
  {
   "cell_type": "code",
   "execution_count": null,
   "metadata": {},
   "outputs": [],
   "source": [
    "@pytest.mark.skipif(sys.version_info > (3, 5), reason=\"Python version \")\n",
    "def test_calc_total():\n",
    "    ..."
   ]
  },
  {
   "cell_type": "markdown",
   "metadata": {},
   "source": [
    "# Running test names that contain a substring\n",
    "From Anaconda prompt, `pytest -k multiply` will only run tests that have the word multiply in them. Thus, `test_calc_multiply` would be run but not test_calc_total (or any other tests added later without multiply in the name). The output of the command `pytest -k multiply -v` is as follows:"
   ]
  },
  {
   "cell_type": "raw",
   "metadata": {},
   "source": [
    "(base) C:\\Users\\kahna\\PycharmProjects\\python-intermediate-tutorials\\pytest_automated_testing>pytest -k multiply -v\n",
    "============================= test session starts =============================\n",
    "platform win32 -- Python 3.7.0, pytest-3.8.0, py-1.6.0, pluggy-0.7.1 -- C:\\Users\\kahna\\AppData\\Local\\Continuum\\anaconda3\\python.exe\n",
    "cachedir: .pytest_cache\n",
    "rootdir: C:\\Users\\kahna\\PycharmProjects\\python-intermediate-tutorials\\pytest_automated_testing, inifile:\n",
    "plugins: remotedata-0.3.0, openfiles-0.3.0, doctestplus-0.1.3, arraydiff-0.2\n",
    "collected 2 items / 1 deselected\n",
    "\n",
    "test/test_mathlib.py::test_calc_multiply PASSED                          [100%]\n",
    "\n",
    "=================== 1 passed, 1 deselected in 0.02 seconds ===================="
   ]
  },
  {
   "cell_type": "markdown",
   "metadata": {},
   "source": [
    "This is also demonstrated by `pytest -k calc -v`, which will not run `test_dummy()`"
   ]
  },
  {
   "cell_type": "markdown",
   "metadata": {},
   "source": [
    "# Custom markers\n",
    "4 hypothetical test cases have been created, which are marked with either `windows` or `mac` tags:"
   ]
  },
  {
   "cell_type": "code",
   "execution_count": null,
   "metadata": {},
   "outputs": [],
   "source": [
    "@pytest.mark.windows  # Marks the test with windows marker\n",
    "def test_windows_1():\n",
    "    assert True\n",
    "\n",
    "@pytest.mark.windows  # Marks the test with windows marker\n",
    "def test_windows_2():\n",
    "    assert True\n",
    "\n",
    "@pytest.mark.mac  # Marks the test with mac marker\n",
    "def test_mac_1():\n",
    "    assert True\n",
    "\n",
    "@pytest.mark.mac  # Marks the test with mac marker\n",
    "def test_mac_2():\n",
    "    assert True"
   ]
  },
  {
   "cell_type": "markdown",
   "metadata": {},
   "source": [
    "These tags are custom tags that have been created by the `mark` facility. To only run the `mac` tests, use `pytest -m mac -v`:"
   ]
  },
  {
   "cell_type": "raw",
   "metadata": {},
   "source": [
    "(base) C:\\Users\\kahna\\PycharmProjects\\python-intermediate-tutorials\\pytest_automated_testing>pytest -m mac -v\n",
    "============================= test session starts =============================\n",
    "platform win32 -- Python 3.7.0, pytest-3.8.0, py-1.6.0, pluggy-0.7.1 -- C:\\Users\\kahna\\AppData\\Local\\Continuum\\anaconda3\\python.exe\n",
    "cachedir: .pytest_cache\n",
    "rootdir: C:\\Users\\kahna\\PycharmProjects\\python-intermediate-tutorials\\pytest_automated_testing, inifile:\n",
    "plugins: remotedata-0.3.0, openfiles-0.3.0, doctestplus-0.1.3, arraydiff-0.2\n",
    "collected 7 items / 5 deselected\n",
    "\n",
    "test/test_mathlib.py::test_mac_1 PASSED                                  [ 50%]\n",
    "test/test_mathlib.py::test_mac_2 PASSED                                  [100%]\n",
    "\n",
    "=================== 2 passed, 5 deselected in 0.04 seconds ===================="
   ]
  },
  {
   "cell_type": "markdown",
   "metadata": {},
   "source": [
    "# Running all tests that lack a custom marker\n",
    "To run all tests that are not marked with the `mac` marker, use the command\n",
    "\n",
    "\n",
    "`pytest -m \"not mac\" -v`:"
   ]
  },
  {
   "cell_type": "raw",
   "metadata": {},
   "source": [
    "(base) C:\\Users\\kahna\\PycharmProjects\\python-intermediate-tutorials\\pytest_automated_testing>pytest -m \"not mac\" -v\n",
    "============================= test session starts =============================\n",
    "platform win32 -- Python 3.7.0, pytest-3.8.0, py-1.6.0, pluggy-0.7.1 -- C:\\Users\\kahna\\AppData\\Local\\Continuum\\anaconda3\\python.exe\n",
    "cachedir: .pytest_cache\n",
    "rootdir: C:\\Users\\kahna\\PycharmProjects\\python-intermediate-tutorials\\pytest_automated_testing, inifile:\n",
    "plugins: remotedata-0.3.0, openfiles-0.3.0, doctestplus-0.1.3, arraydiff-0.2\n",
    "collected 7 items / 2 deselected\n",
    "\n",
    "test/test_mathlib.py::test_calc_total PASSED                             [ 20%]\n",
    "test/test_mathlib.py::test_calc_multiply PASSED                          [ 40%]\n",
    "test/test_mathlib.py::test_dummy PASSED                                  [ 60%]\n",
    "test/test_mathlib.py::test_windows_1 PASSED                              [ 80%]\n",
    "test/test_mathlib.py::test_windows_2 PASSED                              [100%]\n",
    "\n",
    "=================== 5 passed, 2 deselected in 0.03 seconds ===================="
   ]
  },
  {
   "cell_type": "code",
   "execution_count": null,
   "metadata": {},
   "outputs": [],
   "source": []
  }
 ],
 "metadata": {
  "kernelspec": {
   "display_name": "Python 3",
   "language": "python",
   "name": "python3"
  },
  "language_info": {
   "codemirror_mode": {
    "name": "ipython",
    "version": 3
   },
   "file_extension": ".py",
   "mimetype": "text/x-python",
   "name": "python",
   "nbconvert_exporter": "python",
   "pygments_lexer": "ipython3",
   "version": "3.6.6"
  }
 },
 "nbformat": 4,
 "nbformat_minor": 2
}
