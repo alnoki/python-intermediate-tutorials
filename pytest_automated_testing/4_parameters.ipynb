{
 "cells": [
  {
   "cell_type": "code",
   "execution_count": 1,
   "metadata": {},
   "outputs": [
    {
     "data": {
      "text/html": [
       "<iframe width=\"400\" height=\"225\"\n",
       "src=\"https://www.youtube.com/embed/2EGgtlf7BN0?list=PLeo1K3hjS3utzQYDNRNluzqJqpMXx6hHu\" allowfullscreen></iframe>"
      ],
      "text/plain": [
       "<IPython.core.display.HTML object>"
      ]
     },
     "metadata": {},
     "output_type": "display_data"
    }
   ],
   "source": [
    "%%HTML\n",
    "<iframe width=\"400\" height=\"225\"\n",
    "src=\"https://www.youtube.com/embed/2EGgtlf7BN0?list=PLeo1K3hjS3utzQYDNRNluzqJqpMXx6hHu\" allowfullscreen></iframe>"
   ]
  },
  {
   "cell_type": "markdown",
   "metadata": {},
   "source": [
    "# Repeated code example\n",
    "`test\\test_mathlib2.py` contains code to test the `calc_square` function of `mathlib.py`. A simple way to test 3 outputs would be:"
   ]
  },
  {
   "cell_type": "code",
   "execution_count": null,
   "metadata": {},
   "outputs": [],
   "source": [
    "def test_calc_square_1():\n",
    "    result = mathlib.calc_square(5)\n",
    "    assert result == 25\n",
    "def test_calc_square_2():\n",
    "    result = mathlib.calc_square(9)\n",
    "    assert result == 81\n",
    "def test_calc_square_3():\n",
    "    result = mathlib.calc_square(10)\n",
    "    assert result == 100"
   ]
  },
  {
   "cell_type": "markdown",
   "metadata": {},
   "source": [
    "However, this requires duplicate code to perform the relevant test"
   ]
  },
  {
   "cell_type": "markdown",
   "metadata": {},
   "source": [
    "# Reducing to a single test\n",
    "The `pytest.mark.parametrize` decorator allows for the inputs to be made into a  list of tuples like below:"
   ]
  },
  {
   "cell_type": "code",
   "execution_count": null,
   "metadata": {},
   "outputs": [],
   "source": [
    "@pytest.mark.parametrize(\"test_input, expected_output\",\n",
    "                          [\n",
    "                              (5, 25),\n",
    "                              (9, 81),\n",
    "                              (10, 100)\n",
    "                          ]\n",
    "                          )\n",
    "def test_calc_square(test_input, expected_output):\n",
    "    result = mathlib.calc_square(test_input)\n",
    "    assert result == expected_output"
   ]
  },
  {
   "cell_type": "markdown",
   "metadata": {},
   "source": [
    "Note that the `\"test_input, expected_output\"` argument to the decorator represents the arguments to the test function `test_calc_square`, and that there is a list of tuples with inputs and outputs for each test case"
   ]
  },
  {
   "cell_type": "markdown",
   "metadata": {},
   "source": [
    "# Additional parameterization\n",
    "See https://docs.pytest.org/en/latest/parametrize.html for a list of additional decorator facilities. Notably, multiple decorators can be chained to enumerate different combinations of parameterized arguments"
   ]
  }
 ],
 "metadata": {
  "kernelspec": {
   "display_name": "Python 3",
   "language": "python",
   "name": "python3"
  },
  "language_info": {
   "codemirror_mode": {
    "name": "ipython",
    "version": 3
   },
   "file_extension": ".py",
   "mimetype": "text/x-python",
   "name": "python",
   "nbconvert_exporter": "python",
   "pygments_lexer": "ipython3",
   "version": "3.7.0"
  }
 },
 "nbformat": 4,
 "nbformat_minor": 2
}
