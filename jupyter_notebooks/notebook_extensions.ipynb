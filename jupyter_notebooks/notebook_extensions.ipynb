{
 "cells": [
  {
   "cell_type": "markdown",
   "metadata": {
    "toc": true
   },
   "source": [
    "<h1>Table of Contents<span class=\"tocSkip\"></span></h1>\n",
    "<div class=\"toc\"><ul class=\"toc-item\"><li><span><a href=\"#Jupyter-Notebook-Extensions\" data-toc-modified-id=\"Jupyter-Notebook-Extensions-1\"><span class=\"toc-item-num\">1&nbsp;&nbsp;</span><a href=\"https://jupyter-contrib-nbextensions.readthedocs.io/en/latest/index.html\" target=\"_blank\">Jupyter Notebook Extensions</a></a></span></li><li><span><a href=\"#Installing-jupyter_contrib_nbextensions\" data-toc-modified-id=\"Installing-jupyter_contrib_nbextensions-2\"><span class=\"toc-item-num\">2&nbsp;&nbsp;</span><a href=\"https://jupyter-contrib-nbextensions.readthedocs.io/en/latest/install.html\" target=\"_blank\">Installing jupyter_contrib_nbextensions</a></a></span><ul class=\"toc-item\"><li><span><a href=\"#Conda-(potentially-buggy)\" data-toc-modified-id=\"Conda-(potentially-buggy)-2.1\"><span class=\"toc-item-num\">2.1&nbsp;&nbsp;</span><a href=\"https://jupyter-contrib-nbextensions.readthedocs.io/en/latest/install.html#conda\" target=\"_blank\">Conda (potentially buggy)</a></a></span></li><li><span><a href=\"#Pip-(alternative)\" data-toc-modified-id=\"Pip-(alternative)-2.2\"><span class=\"toc-item-num\">2.2&nbsp;&nbsp;</span><a href=\"https://jupyter-contrib-nbextensions.readthedocs.io/en/latest/install.html#pip\" target=\"_blank\">Pip (alternative)</a></a></span></li><li><span><a href=\"#Enabling/Disabling-extensions\" data-toc-modified-id=\"Enabling/Disabling-extensions-2.3\"><span class=\"toc-item-num\">2.3&nbsp;&nbsp;</span><a href=\"https://jupyter-contrib-nbextensions.readthedocs.io/en/latest/install.html#enabling-disabling-extensions\" target=\"_blank\">Enabling/Disabling extensions</a></a></span></li></ul></li><li><span><a href=\"#Recommended-extensions\" data-toc-modified-id=\"Recommended-extensions-3\"><span class=\"toc-item-num\">3&nbsp;&nbsp;</span>Recommended extensions</a></span><ul class=\"toc-item\"><li><span><a href=\"#Table-of-contents\" data-toc-modified-id=\"Table-of-contents-3.1\"><span class=\"toc-item-num\">3.1&nbsp;&nbsp;</span>Table of contents</a></span><ul class=\"toc-item\"><li><span><a href=\"#Background\" data-toc-modified-id=\"Background-3.1.1\"><span class=\"toc-item-num\">3.1.1&nbsp;&nbsp;</span>Background</a></span></li><li><span><a href=\"#Header-linking\" data-toc-modified-id=\"Header-linking-3.1.2\"><span class=\"toc-item-num\">3.1.2&nbsp;&nbsp;</span>Header linking</a></span></li><li><span><a href=\"#Level-contents\" data-toc-modified-id=\"Level-contents-3.1.3\"><span class=\"toc-item-num\">3.1.3&nbsp;&nbsp;</span>Level contents</a></span></li><li><span><a href=\"#Saving-with-a-TOC\" data-toc-modified-id=\"Saving-with-a-TOC-3.1.4\"><span class=\"toc-item-num\">3.1.4&nbsp;&nbsp;</span>Saving with a TOC</a></span></li><li><span><a href=\"#Navigate-pane\" data-toc-modified-id=\"Navigate-pane-3.1.5\"><span class=\"toc-item-num\">3.1.5&nbsp;&nbsp;</span>Navigate pane</a></span></li><li><span><a href=\"#Creating-a-document-header\" data-toc-modified-id=\"Creating-a-document-header-3.1.6\"><span class=\"toc-item-num\">3.1.6&nbsp;&nbsp;</span>Creating a document header</a></span></li></ul></li><li><span><a href=\"#Collapsible-headings\" data-toc-modified-id=\"Collapsible-headings-3.2\"><span class=\"toc-item-num\">3.2&nbsp;&nbsp;</span>Collapsible headings</a></span><ul class=\"toc-item\"><li><span><a href=\"#Cell-structuring\" data-toc-modified-id=\"Cell-structuring-3.2.1\"><span class=\"toc-item-num\">3.2.1&nbsp;&nbsp;</span>Cell structuring</a></span></li><li><span><a href=\"#Options\" data-toc-modified-id=\"Options-3.2.2\"><span class=\"toc-item-num\">3.2.2&nbsp;&nbsp;</span>Options</a></span></li></ul></li></ul></li></ul></div>"
   ]
  },
  {
   "cell_type": "markdown",
   "metadata": {},
   "source": [
    "# [Jupyter Notebook Extensions](https://jupyter-contrib-nbextensions.readthedocs.io/en/latest/index.html#)\n",
    "The `jupyter_contrib_nbextensions` package contains unofficial extensions that add functionalities to Jupyter Notebook. They are written mostly in JavaScript and are loaded locally to a browser\n",
    "\n",
    "The maturity of provided extensions varies, so use the project's github repository if any problems come up\n",
    "# [Installing jupyter_contrib_nbextensions](https://jupyter-contrib-nbextensions.readthedocs.io/en/latest/install.html)\n",
    "The pip package is needed, and notebook extensions must be copied to the Jupyter data directory. Then the individual extensions must be enabled\n",
    "## [Conda (potentially buggy)](https://jupyter-contrib-nbextensions.readthedocs.io/en/latest/install.html#conda)\n",
    "Conda automatically installs the relevant JavaScript and CSS files, so only one conda command is necessary. However, it is recommended that a `doc` conda environment be created specifically for Jupyter (since a dedicated kernal is necessary for editing notebooks anyways):"
   ]
  },
  {
   "cell_type": "raw",
   "metadata": {},
   "source": [
    "conda create doc\n",
    "\n",
    "... activate doc environment ..\n",
    "\n",
    "conda install -c conda-forge jupyter_contrib_nbextensions"
   ]
  },
  {
   "cell_type": "markdown",
   "metadata": {},
   "source": [
    "Note that there may be a firewall error, and according to a [forum response](https://forum.qiime2.org/t/condahttperror-http-000-connection-failed/3317), the following command should enable the downloads to take place (from the `base` environment):"
   ]
  },
  {
   "cell_type": "raw",
   "metadata": {},
   "source": [
    "conda config --set ssl_verify no"
   ]
  },
  {
   "cell_type": "markdown",
   "metadata": {},
   "source": [
    "Afterwards,  it is assumed that the `ssl_verify` parameter should be set back to `yes`\n",
    "\n",
    "Alternatively, another [forum](https://stackoverflow.com/questions/33699577/conda-update-failed-ssl-error-ssl-certificate-verify-failed-certificate-ver) recommended that the below command should correct the error:"
   ]
  },
  {
   "cell_type": "raw",
   "metadata": {},
   "source": [
    "conda remove certifi\n",
    "conda install certifi"
   ]
  },
  {
   "cell_type": "markdown",
   "metadata": {},
   "source": [
    "## [Pip (alternative)](https://jupyter-contrib-nbextensions.readthedocs.io/en/latest/install.html#pip)\n",
    "If `conda-forge` installation doesn't work, try (from inside the `doc` environment):"
   ]
  },
  {
   "cell_type": "raw",
   "metadata": {},
   "source": [
    "pip install jupyter_contrib_nbextensions"
   ]
  },
  {
   "cell_type": "markdown",
   "metadata": {},
   "source": [
    "Then to install the javascript files, use (from inside `doc` environment):"
   ]
  },
  {
   "cell_type": "raw",
   "metadata": {},
   "source": [
    "jupyter contrib nbextension install --user"
   ]
  },
  {
   "cell_type": "markdown",
   "metadata": {},
   "source": [
    "## [Enabling/Disabling extensions](https://jupyter-contrib-nbextensions.readthedocs.io/en/latest/install.html#enabling-disabling-extensions)\n",
    "A subcommand can be used in the terminal, or alternatively the `configurator` can be accessed via the `Edit->nbextensions config` menu item of a Jupyter Notebook"
   ]
  },
  {
   "cell_type": "markdown",
   "metadata": {},
   "source": [
    "#  Recommended extensions"
   ]
  },
  {
   "cell_type": "markdown",
   "metadata": {},
   "source": [
    "## Table of contents"
   ]
  },
  {
   "cell_type": "markdown",
   "metadata": {},
   "source": [
    "### Background"
   ]
  },
  {
   "cell_type": "markdown",
   "metadata": {},
   "source": [
    "The [toc2 extension](https://jupyter-contrib-nbextensions.readthedocs.io/en/latest/nbextensions/toc2/README.html) will automatically generate a table of contents at the top of the Jupyter notebook if the option is enabled, otherwise it will only be available in the navigation pane"
   ]
  },
  {
   "cell_type": "markdown",
   "metadata": {},
   "source": [
    "### Header linking"
   ]
  },
  {
   "cell_type": "markdown",
   "metadata": {},
   "source": [
    "The TOC will be linked to specific headers, but if the headers themselves are hyperlinks, then the TOC will link to those sources instead of to the header section. Thus it is recommended that headers not be hyperlinks"
   ]
  },
  {
   "cell_type": "markdown",
   "metadata": {},
   "source": [
    "### Level contents"
   ]
  },
  {
   "cell_type": "markdown",
   "metadata": {},
   "source": [
    "It is recommended that headers and markdown text not be contained in the same cells, for collapsibility purposes"
   ]
  },
  {
   "cell_type": "markdown",
   "metadata": {},
   "source": [
    "### Saving with a TOC"
   ]
  },
  {
   "cell_type": "markdown",
   "metadata": {},
   "source": [
    "The menu item `File` -> `Download as` -> `HTML with toc (.html)` will create an HTML file with a navigation pane according to the auto-generated TOC "
   ]
  },
  {
   "cell_type": "markdown",
   "metadata": {},
   "source": [
    "### Navigate pane"
   ]
  },
  {
   "cell_type": "markdown",
   "metadata": {},
   "source": [
    "The `Navigate` pane of the Jupyter Notebook client displays the headers that can be navigated to. Again, this doesn't work as expected if the headers themselves are hyperlinks. Additionally, the TOC icon next to the keyboard shortcuts icon in the `toolbar` will open a navigation pane\n",
    "\n",
    "The navigation pane can be drag and dropped to hover over the current document as well"
   ]
  },
  {
   "cell_type": "markdown",
   "metadata": {},
   "source": [
    "### Creating a document header"
   ]
  },
  {
   "cell_type": "markdown",
   "metadata": {},
   "source": [
    "An option can be configured to only use level 2 and below headings as for the TOC, such that a level 1 heading can be used to create a header at the top of a document. It is recommended that this functionality be used in future notebooks"
   ]
  },
  {
   "cell_type": "markdown",
   "metadata": {},
   "source": [
    "## Collapsible headings\n"
   ]
  },
  {
   "cell_type": "markdown",
   "metadata": {},
   "source": [
    "The [Collapsible Headings](https://jupyter-contrib-nbextensions.readthedocs.io/en/latest/nbextensions/collapsible_headings/readme.html) extension allows for headings to be collapsed for navigation purposes"
   ]
  },
  {
   "cell_type": "markdown",
   "metadata": {},
   "source": [
    "### Cell structuring"
   ]
  },
  {
   "cell_type": "markdown",
   "metadata": {},
   "source": [
    "It is again recommended that each header and textual markdown cell be isolated from one another, so that cells can collapse more predictably"
   ]
  },
  {
   "cell_type": "markdown",
   "metadata": {},
   "source": [
    "### Options"
   ]
  },
  {
   "cell_type": "markdown",
   "metadata": {},
   "source": [
    "Keyboard shortcuts can insert headings automatically below (Shift + B) for example, or to collapse all of a headers children (Left), for example"
   ]
  },
  {
   "cell_type": "code",
   "execution_count": null,
   "metadata": {},
   "outputs": [],
   "source": []
  }
 ],
 "metadata": {
  "kernelspec": {
   "display_name": "Python 3",
   "language": "python",
   "name": "python3"
  },
  "language_info": {
   "codemirror_mode": {
    "name": "ipython",
    "version": 3
   },
   "file_extension": ".py",
   "mimetype": "text/x-python",
   "name": "python",
   "nbconvert_exporter": "python",
   "pygments_lexer": "ipython3",
   "version": "3.7.0"
  },
  "toc": {
   "base_numbering": 1,
   "nav_menu": {
    "height": "214px",
    "width": "272px"
   },
   "number_sections": true,
   "sideBar": true,
   "skip_h1_title": false,
   "title_cell": "Table of Contents",
   "title_sidebar": "Contents",
   "toc_cell": true,
   "toc_position": {
    "height": "353px",
    "left": "723px",
    "top": "93.5px",
    "width": "213px"
   },
   "toc_section_display": true,
   "toc_window_display": false
  }
 },
 "nbformat": 4,
 "nbformat_minor": 2
}
