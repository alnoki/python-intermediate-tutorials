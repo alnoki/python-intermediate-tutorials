{
 "cells": [
  {
   "cell_type": "code",
   "execution_count": 1,
   "metadata": {},
   "outputs": [
    {
     "data": {
      "text/html": [
       "<iframe width=\"400\" height=\"225\"\n",
       "src=\"https://www.youtube.com/embed/l32bsaIDoWk?list=PLeo1K3hjS3utzQYDNRNluzqJqpMXx6hHu\" allowfullscreen></iframe>"
      ],
      "text/plain": [
       "<IPython.core.display.HTML object>"
      ]
     },
     "metadata": {},
     "output_type": "display_data"
    }
   ],
   "source": [
    "%%HTML\n",
    "<iframe width=\"400\" height=\"225\"\n",
    "src=\"https://www.youtube.com/embed/l32bsaIDoWk?list=PLeo1K3hjS3utzQYDNRNluzqJqpMXx6hHu\" allowfullscreen></iframe>"
   ]
  },
  {
   "cell_type": "markdown",
   "metadata": {},
   "source": [
    "# Running tests inside Jupyter\n",
    "The snippet below allows for unitttest to be called inside Jupyter per https://medium.com/@vladbezden/using-python-unittest-in-ipython-or-jupyter-732448724e31"
   ]
  },
  {
   "cell_type": "code",
   "execution_count": 2,
   "metadata": {},
   "outputs": [
    {
     "name": "stderr",
     "output_type": "stream",
     "text": [
      "\n",
      "----------------------------------------------------------------------\n",
      "Ran 0 tests in 0.000s\n",
      "\n",
      "OK\n"
     ]
    }
   ],
   "source": [
    "import unittest\n",
    "if __name__ == '__main__':\n",
    "    unittest.main(argv=['first-arg-is-ignored'], exit=False)"
   ]
  },
  {
   "cell_type": "markdown",
   "metadata": {},
   "source": [
    "# Pytest general info\n",
    "1. Pytest is a package that is included with Anaconda.\n",
    "2. Examples are for `test_mathlib.py`, which will be testing mathlib.py.\n",
    "3. All test functions must start with `test_`, and the test module must be `test_MODULENAME.py`\n",
    "4. Pytest runs recursively"
   ]
  },
  {
   "cell_type": "code",
   "execution_count": 3,
   "metadata": {},
   "outputs": [],
   "source": [
    "def test_calc_total():  # Must start with test_\n",
    "    pass"
   ]
  },
  {
   "cell_type": "markdown",
   "metadata": {},
   "source": [
    "# \\_\\_init\\_\\_.py\n",
    "Make an `__init__.py` file in the `src` directory that contains a variable declaring the name of all files to be included. For example, if the files in the project are\n",
    "1. `mathlib.py` (in `src`)\n",
    "2. `textlib.py` (in `src`)\n",
    "3. `test_mathlib.py` (in `test`)\n",
    "4. `test_textlib.py` (in `test`)\n",
    "\n",
    "\n",
    "then `__init__.py` should have:"
   ]
  },
  {
   "cell_type": "code",
   "execution_count": 7,
   "metadata": {},
   "outputs": [],
   "source": [
    "__all__ = ['mathlib', 'textlib']  # Inside __init__.py of src directory"
   ]
  },
  {
   "cell_type": "markdown",
   "metadata": {},
   "source": [
    "Note\n",
    "1. `test_MODULENAME.py` files should not to be listed in this variable\n",
    "2. `__init__.py` in the `test` directory may cause `py.test` command (below) to fail"
   ]
  },
  {
   "cell_type": "markdown",
   "metadata": {},
   "source": [
    "# setup.py configuration\n",
    "In accordance with https://docs.pytest.org/en/latest/goodpractices.html#test-discovery, it is recommended that there be a `setup.py` file in the root of the project directory with the following minimum content:"
   ]
  },
  {
   "cell_type": "code",
   "execution_count": null,
   "metadata": {},
   "outputs": [],
   "source": [
    "from setuptools import setup, find_packages\n",
    "\n",
    "setup(name=\"PACKAGENAME\", packages=find_packages())"
   ]
  },
  {
   "cell_type": "markdown",
   "metadata": {},
   "source": [
    "For this tutorial example, the file is inside the `pytest_automated_testing` directory and the `name` variable is `pytest_automated_testing`. Then, run the command `pip install -e .` From inside the root of the project directory"
   ]
  },
  {
   "cell_type": "markdown",
   "metadata": {},
   "source": [
    "# conda develop configuration\n",
    "From inside the root directory, in this example `pytest_automated_testing`, run the command\n",
    "\n",
    "`conda develop src`\n",
    "\n",
    "1. This will allow files in the src directory to be accessed by the tests in the `tests` directory\n",
    "2. After running this once, the command may not be needed again, even after machine reboot"
   ]
  },
  {
   "cell_type": "markdown",
   "metadata": {},
   "source": [
    "# Running pytest from command line (simple)\n",
    "1. From the anaconda terminal inside the `test` directory, use\n",
    "\n",
    "`python -m pytest`\n",
    "2. This will recursively look through all folders and run all tests in all relevant test files\n",
    "3. Relevant files of form `test_MODULENAME.py`, relevant tests of form `test_FUNCTION`"
   ]
  },
  {
   "cell_type": "markdown",
   "metadata": {},
   "source": [
    "# Alternative command line arguments\n",
    "1. A test can also be run by the command\n",
    "\n",
    "`py.test`\n",
    "\n",
    "(Note this requires the test file to be added to `__init__.py` in `src` directory)\n",
    "2. For verbose output\n",
    "\n",
    "`py.test -v`"
   ]
  }
 ],
 "metadata": {
  "kernelspec": {
   "display_name": "Python 3",
   "language": "python",
   "name": "python3"
  },
  "language_info": {
   "codemirror_mode": {
    "name": "ipython",
    "version": 3
   },
   "file_extension": ".py",
   "mimetype": "text/x-python",
   "name": "python",
   "nbconvert_exporter": "python",
   "pygments_lexer": "ipython3",
   "version": "3.7.0"
  }
 },
 "nbformat": 4,
 "nbformat_minor": 2
}
