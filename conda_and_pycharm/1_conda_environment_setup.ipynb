{
 "cells": [
  {
   "cell_type": "markdown",
   "metadata": {},
   "source": [
    "# [Cheatsheet](https://conda.io/docs/_downloads/conda-cheatsheet.pdf)\n",
    "Contains the most common conda commands in a quick reference. From [Additional cheatsheet](https://kapeli.com/cheat_sheets/Conda.docset/Contents/Resources/Documents/index):\n",
    "\n",
    "`conda update anaconda`\n",
    "\n",
    "to update the \"Anaconda meta package\"\n"
   ]
  },
  {
   "cell_type": "markdown",
   "metadata": {},
   "source": [
    "# [Common tasks user guide](https://conda.io/docs/user-guide/tasks/index.html)\n",
    "Contains a list of common tasks associated with conda, environments, etc.\n",
    "\n",
    "From [stackoverflow](https://stackoverflow.com/questions/38972052/anaconda-update-all-possible-packages):\n",
    "\n",
    "`conda update --all`\n",
    "\n",
    "Will update all packages in an environment, but this will not necessarily update to the most recent package available. For example, if package `X` needs package `Y` to be version 5.3 or less, but `Y` is on version 5.5"
   ]
  },
  {
   "cell_type": "markdown",
   "metadata": {},
   "source": [
    "# [Command reference](https://conda.io/docs/commands.html#)\n",
    "Contains a list of various package and environment commands. Notably, the `--help` flag can be used for inspecting the use of any command."
   ]
  },
  {
   "cell_type": "markdown",
   "metadata": {},
   "source": [
    "# Background\n",
    "References the [Conda user guide](https://conda.io/docs/user-guide/index.html).  Starting with the [front page](https://conda.io/docs/index.html), Conda is listed as an open source package management system. It works in more than just Python and helps to keep packages updated and sychronized. Various environments can be switched between, and the packages in each environment are upkept by Anaconda. It can be integrated with continuous integration systems to continously update code\n",
    "\n",
    "Conda can be accessed via Anaconda Prompt (Windows) or Terminal (Mac)"
   ]
  },
  {
   "cell_type": "markdown",
   "metadata": {},
   "source": [
    "#  [Overview](https://conda.io/docs/user-guide/overview.html)\n",
    "The `conda` command allows for packages to be indexed, environments to be made, etc.\n",
    "\n",
    "Many frequently used commands that are preceded by 2 dashes can be abbreviated to just 1 dash and the first letter. Examples:\n",
    "\n",
    "`--name` = `-n-`\n",
    "\n",
    "`--envs` = `-e`"
   ]
  },
  {
   "cell_type": "markdown",
   "metadata": {},
   "source": [
    "# [Concepts](https://conda.io/docs/user-guide/concepts.html)\n",
    "## [Directory structure](https://conda.io/docs/user-guide/concepts.html#conda-directory-structure)\n",
    "`ROOT_DIR` is where Anaconda was installed. [stackoverflow.com](https://stackoverflow.com/questions/37117571/where-does-anaconda-python-install-on-windows) mentions that `where anaconda` will display the installation directory. On a Windows machine, this yielded:"
   ]
  },
  {
   "cell_type": "raw",
   "metadata": {},
   "source": [
    "(base) C:\\>where anaconda\n",
    "C:\\Users\\kahna\\AppData\\Local\\Continuum\\anaconda3\\Scripts\\anaconda.exe"
   ]
  },
  {
   "cell_type": "markdown",
   "metadata": {},
   "source": [
    "It follows that the Anaconda Python interpreter is at `C:\\Users\\kahna\\AppData\\Local\\Continuum\\anaconda3\\python.exe` for the machine in question\n",
    "\n",
    "`/pkgs`, also referred to as `PKGS_DIR` contains packages ready for linking to conda environments. On the machine from this example, this is at `C:\\Users\\kahna\\AppData\\Local\\Continuum\\anaconda3\\pkgs`\n",
    "\n",
    "Likewise, `\\envs` contains conda environments at `C:\\Users\\kahna\\AppData\\Local\\Continuum\\anaconda3\\envs`. These environments typically contain `/bin`, `include`, `/lib`, and `/share` subdirectories\n",
    "## [Conda environments](https://conda.io/docs/user-guide/concepts.html#conda-environments)\n",
    "Environments can have different versions of different packages, for example NumPy 1.6, even though 1.7 is the current version. The `environment.yaml` files can be used to reproduce an environment\n",
    "## [Conda packages](https://conda.io/docs/user-guide/concepts.html#conda-packages)\n",
    "The `conda` command automatically searches the web for packages and can be configured to look in different places. To install packages, run `conda install [packagename]`. This automatically performs extraction procedures"
   ]
  },
  {
   "cell_type": "markdown",
   "metadata": {},
   "source": [
    "# [Getting started](https://conda.io/docs/user-guide/getting-started.html#getting-started-with-conda)\n",
    "Use Anaconda Prompt in Windows or Terminal in Mac\n",
    "## [Managing Conda](https://conda.io/docs/user-guide/getting-started.html#managing-conda)\n",
    "Display current version by:"
   ]
  },
  {
   "cell_type": "raw",
   "metadata": {},
   "source": [
    "conda --version"
   ]
  },
  {
   "cell_type": "markdown",
   "metadata": {},
   "source": [
    "Update current version by:"
   ]
  },
  {
   "cell_type": "raw",
   "metadata": {},
   "source": [
    "conda update conda"
   ]
  },
  {
   "cell_type": "markdown",
   "metadata": {},
   "source": [
    "If a new version is available, use `y` to update when prompted"
   ]
  },
  {
   "cell_type": "markdown",
   "metadata": {},
   "source": [
    "## [Managing Environments](https://conda.io/docs/user-guide/getting-started.html#managing-conda)\n",
    "The default environment is called `base` and should not be modified. As an example, a new environment will be created, with the BioPython package installed. The tutorial suggests using `snowflakes` as the environment name:"
   ]
  },
  {
   "cell_type": "raw",
   "metadata": {},
   "source": [
    "conda create --name snowflakes biopython"
   ]
  },
  {
   "cell_type": "markdown",
   "metadata": {},
   "source": [
    "or, equivalently:"
   ]
  },
  {
   "cell_type": "raw",
   "metadata": {},
   "source": [
    "conda create -n snowflakes biopython"
   ]
  },
  {
   "cell_type": "markdown",
   "metadata": {},
   "source": [
    "This yields a list of what needs to be downloaded:"
   ]
  },
  {
   "cell_type": "raw",
   "metadata": {},
   "source": [
    "(base) C:\\>conda create -n snowflakes biopython\n",
    "Solving environment: done\n",
    "\n",
    "## Package Plan ##\n",
    "\n",
    "  environment location: C:\\Users\\kahna\\AppData\\Local\\Continuum\\anaconda3\\envs\\snowflakes\n",
    "\n",
    "  added / updated specs:\n",
    "    - biopython\n",
    "\n",
    "\n",
    "The following packages will be downloaded:\n",
    "\n",
    "    package                    |            build\n",
    "    ---------------------------|-----------------\n",
    "    python-3.7.1               |       h33f27b4_3        19.5 MB\n",
    "    numpy-base-1.15.3          |   py37h8128ebf_0         3.8 MB\n",
    "    mkl_fft-1.0.6              |   py37hdbbee80_0         120 KB\n",
    "    numpy-1.15.3               |   py37ha559c80_0          36 KB\n",
    "    certifi-2018.10.15         |           py37_0         138 KB\n",
    "    wheel-0.32.2               |           py37_0          52 KB\n",
    "    setuptools-40.4.3          |           py37_0         576 KB\n",
    "    biopython-1.72             |   py37h830ac7b_0         2.5 MB\n",
    "    ------------------------------------------------------------\n",
    "                                           Total:        26.7 MB\n",
    "\n",
    "The following NEW packages will be INSTALLED:\n",
    "\n",
    "    biopython:      1.72-py37h830ac7b_0\n",
    "    blas:           1.0-mkl\n",
    "    certifi:        2018.10.15-py37_0\n",
    "    icc_rt:         2017.0.4-h97af966_0\n",
    "    intel-openmp:   2019.0-118\n",
    "    mkl:            2019.0-118\n",
    "    mkl_fft:        1.0.6-py37hdbbee80_0\n",
    "    mkl_random:     1.0.1-py37h77b88f5_1\n",
    "    numpy:          1.15.3-py37ha559c80_0\n",
    "    numpy-base:     1.15.3-py37h8128ebf_0\n",
    "    pip:            10.0.1-py37_0\n",
    "    python:         3.7.1-h33f27b4_3\n",
    "    setuptools:     40.4.3-py37_0\n",
    "    vc:             14.1-h0510ff6_4\n",
    "    vs2015_runtime: 14.15.26706-h3a45250_0\n",
    "    wheel:          0.32.2-py37_0\n",
    "    wincertstore:   0.2-py37_0\n",
    "\n",
    "Proceed ([y]/n)?"
   ]
  },
  {
   "cell_type": "markdown",
   "metadata": {},
   "source": [
    "To activate the new environment, type (without `Conda`):\n",
    "-  `activate snowflakes` (Windows)\n",
    "-  `source activate snowflakes` (Mac)\n",
    "\n",
    "To see a list of all environments:"
   ]
  },
  {
   "cell_type": "raw",
   "metadata": {},
   "source": [
    "conda info --envs"
   ]
  },
  {
   "cell_type": "markdown",
   "metadata": {},
   "source": [
    "or, equivalently:"
   ]
  },
  {
   "cell_type": "raw",
   "metadata": {},
   "source": [
    "conda info -e"
   ]
  },
  {
   "cell_type": "markdown",
   "metadata": {},
   "source": [
    "For the machine in question, this yields:"
   ]
  },
  {
   "cell_type": "raw",
   "metadata": {},
   "source": [
    "(base) C:\\>conda info -e\n",
    "# conda environments:\n",
    "#\n",
    "base                  *  C:\\Users\\kahna\\AppData\\Local\\Continuum\\anaconda3\n",
    "snowflakes               C:\\Users\\kahna\\AppData\\Local\\Continuum\\anaconda3\\envs\\snowflakes"
   ]
  },
  {
   "cell_type": "markdown",
   "metadata": {},
   "source": [
    "Note that the active environment is marked by `*`"
   ]
  },
  {
   "cell_type": "markdown",
   "metadata": {},
   "source": [
    "To remove an environment, use:"
   ]
  },
  {
   "cell_type": "raw",
   "metadata": {},
   "source": [
    "conda remove -n [ENVIRONMENT_NAME] --all"
   ]
  },
  {
   "cell_type": "markdown",
   "metadata": {},
   "source": [
    "## [Managing Python](https://conda.io/docs/user-guide/getting-started.html#managing-python)\n",
    "The Anaconda `base` version of Python automatically goes into new environments. However, other versions of Python can be used too. For example, to use `Python 3.5` in a new `snakes` environment:"
   ]
  },
  {
   "cell_type": "raw",
   "metadata": {},
   "source": [
    "conda create --name snakes python=3.5"
   ]
  },
  {
   "cell_type": "markdown",
   "metadata": {},
   "source": [
    "equivalently:"
   ]
  },
  {
   "cell_type": "raw",
   "metadata": {},
   "source": [
    "conda create -n snakes python=3.5"
   ]
  },
  {
   "cell_type": "markdown",
   "metadata": {},
   "source": [
    "Once the package has been activated, check Python version by:"
   ]
  },
  {
   "cell_type": "raw",
   "metadata": {},
   "source": [
    "python --version"
   ]
  },
  {
   "cell_type": "markdown",
   "metadata": {},
   "source": [
    "DO NOT use `python -v`, this will not work. Output of above command:"
   ]
  },
  {
   "cell_type": "raw",
   "metadata": {},
   "source": [
    "python -v"
   ]
  },
  {
   "cell_type": "raw",
   "metadata": {},
   "source": [
    "(snakes) C:\\>python --version\n",
    "Python 3.5.6 :: Anaconda, Inc."
   ]
  },
  {
   "cell_type": "markdown",
   "metadata": {},
   "source": [
    "To deactivate the environment and return to `base`, use:\n",
    "-  `deactivate` (Windows)\n",
    "-  `source deactivate` (Mac)\n",
    "\n",
    "## [Managing packages](https://conda.io/docs/user-guide/getting-started.html#managing-python)\n",
    "To search in the `beautifulsoup4` package is available from the Anaconda repository (must have internet):"
   ]
  },
  {
   "cell_type": "raw",
   "metadata": {},
   "source": [
    "conda search beautifulsoup4"
   ]
  },
  {
   "cell_type": "markdown",
   "metadata": {},
   "source": [
    "The installation was performed from inside the `snowflakes` environment:"
   ]
  },
  {
   "cell_type": "raw",
   "metadata": {},
   "source": [
    "(snowflakes) C:\\>conda install beautifulsoup4\n",
    "Solving environment: done\n",
    "\n",
    "## Package Plan ##\n",
    "\n",
    "  environment location: C:\\Users\\kahna\\AppData\\Local\\Continuum\\anaconda3\\envs\\snowflakes\n",
    "\n",
    "  added / updated specs:\n",
    "    - beautifulsoup4\n",
    "\n",
    "\n",
    "The following NEW packages will be INSTALLED:\n",
    "\n",
    "    beautifulsoup4: 4.6.3-py37_0\n",
    "\n",
    "Proceed ([y]/n)? y\n",
    "\n",
    "Preparing transaction: done\n",
    "Verifying transaction: done\n",
    "Executing transaction: done\n",
    "\n",
    "(snowflakes) C:\\>"
   ]
  },
  {
   "cell_type": "markdown",
   "metadata": {},
   "source": [
    "Then to see if the program is in the environment:"
   ]
  },
  {
   "cell_type": "raw",
   "metadata": {},
   "source": [
    "conda list"
   ]
  },
  {
   "cell_type": "markdown",
   "metadata": {},
   "source": [
    "# [Installation configuration considerations](https://conda.io/docs/user-guide/install/index.html#installing-conda-on-a-system-that-has-other-python-installations-or-packages)\n",
    "Anaconda should be in the `PATH` environment variable. There should be no need to set the `PYTHONPATH` variable. To check if the conda installation of Python is in the `PATH` variable:\n",
    "-  `echo $PATH` (Mac Terminal)\n",
    "-  `echo %PATH%` (Windows Anaconda Prompt)\n",
    "\n",
    "On the Windows machine for this tutorial, the result was:"
   ]
  },
  {
   "cell_type": "raw",
   "metadata": {},
   "source": [
    "C:\\Users\\kahna\\AppData\\Local\\Continuum\\anaconda3;C:\\Users\\kahna\\AppData\\Local\\Continuum\\anaconda3\\Library\\mingw-w64\\bin;C:\\Users\\kahna\\AppData\\Local\\Continuum\\anaconda3\\Library\\usr\\bin;C:\\Users\\kahna\\AppData\\Local\\Continuum\\anaconda3\\Library\\bin;C:\\Users\\kahna\\AppData\\Local\\Continuum\\anaconda3\\Scripts;C:\\Users\\kahna\\AppData\\Local\\Continuum\\anaconda3\\bin;C:\\Program Files (x86)\\BullseyeCoverage_8.7.1\\bin;C:\\Python27;C:\\Python27\\Scripts;C:\\Python27\\Lib\\site-packages\\PyQt4;C:\\Perl\\bin;C:\\ProgramData\\Oracle\\Java\\javapath;C:\\WINDOWS\\system32;C:\\WINDOWS;C:\\WINDOWS\\System32\\Wbem;C:\\WINDOWS\\System32\\WindowsPowerShell\\v1.0;C:\\WINDOWS\\CCM;C:\\Program Files\\Git\\bin;C:\\Program Files\\Git\\usr\\bin;C:\\Program Files (x86)\\Windows Kits\\8.1\\Windows Performance Toolkit;C:\\Program Files (x86)\\Microsoft SDKs\\TypeScript\\1.0;C:\\Program Files\\AbsInt\\Common\\bin;C:\\Program Files\\ARM\\ADSv1_2\\bin;C:\\cygwin-x86_64\\bin;C:\\WINDOWS\\SysWOW64;C:\\Program Files (x86)\\Borland\\StarTeam SDK 11.0\\Lib;C:\\Program Files (x86)\\Borland\\StarTeam SDK 11.0\\Bin;C:\\Program Files\\MATLAB\\R2016a\\runtime\\win64;C:\\Program Files\\MATLAB\\R2016a\\bin;C:\\Program Files\\MATLAB\\R2016a\\polyspace\\bin;C:\\Program Files\\Citrix\\System32\\;C:\\Program Files\\Citrix\\ICAService\\;C:\\WINDOWS\\System32\\WindowsPowerShell\\v1.0\\;C:\\Program Files (x86)\\Analog Devices\\VisualDSP 5.0.10;C:\\Program Files (x86)\\BullseyeCoverage_8.7.1\\bin\\;C:\\Users\\kahna\\AppData\\Local\\Programs\\Python\\Python37-32\\Scripts\\;C:\\Users\\kahna\\AppData\\Local\\Programs\\Python\\Python37-32\\;C:\\Users\\kahna\\AppData\\Local\\Microsoft\\WindowsApps;"
   ]
  },
  {
   "cell_type": "markdown",
   "metadata": {},
   "source": [
    "Thus it appeared that Anaconda was in the `PATH` variable as many of the initial paths listed contained `anaconda3` in the path.\n",
    "\n",
    "Go see which Python install is default:\n",
    "-  `which python` (Mac Terminal)\n",
    "-  `where python` (Windows Anaconda Prompt)\n",
    "\n",
    "The result from the Windows machine for this tutorial:"
   ]
  },
  {
   "cell_type": "raw",
   "metadata": {},
   "source": [
    "(base) C:\\>where python\n",
    "C:\\Users\\kahna\\AppData\\Local\\Continuum\\anaconda3\\python.exe\n",
    "C:\\Python27\\python.exe\n",
    "C:\\Users\\kahna\\AppData\\Local\\Programs\\Python\\Python37-32\\python.exe"
   ]
  }
 ],
 "metadata": {
  "kernelspec": {
   "display_name": "Python 3",
   "language": "python",
   "name": "python3"
  },
  "language_info": {
   "codemirror_mode": {
    "name": "ipython",
    "version": 3
   },
   "file_extension": ".py",
   "mimetype": "text/x-python",
   "name": "python",
   "nbconvert_exporter": "python",
   "pygments_lexer": "ipython3",
   "version": "3.7.0"
  }
 },
 "nbformat": 4,
 "nbformat_minor": 2
}
