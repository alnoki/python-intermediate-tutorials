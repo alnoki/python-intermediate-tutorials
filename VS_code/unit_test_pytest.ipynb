{
 "cells": [
  {
   "cell_type": "markdown",
   "metadata": {},
   "source": [
    "# [Enable a test framework](https://code.visualstudio.com/docs/python/unit-testing#_enable-a-test-framework)\n",
    "`pytest` enablement was performed per the above link. the `VS_code\\pytest` directory was created"
   ]
  },
  {
   "cell_type": "markdown",
   "metadata": {},
   "source": [
    "# [Walkthrough](https://code.visualstudio.com/docs/python/unit-testing#_an-example-test-and-walkthrough)\n",
    "The above tutorial was performed, with the `unitTest` framework used so that the tutorial could be followed.\n",
    "\n",
    "The workspace settings were modified to include:\n",
    "\n",
    "`\"python.unitTest.unittestArgs\": [\"-s\",\".\\\\VS_code\\\\pytest\"]`\n",
    "\n",
    "in addition to the default unit test enablement options. A breakpoint was used with the `Debug Test` option to step into a test"
   ]
  },
  {
   "cell_type": "markdown",
   "metadata": {},
   "source": [
    "#  [pytest configuration](https://code.visualstudio.com/docs/python/unit-testing#_enable-a-test-framework)\n",
    "The framework enabler documentation above was considered, as well as [pytest configuration documentation](https://docs.pytest.org/en/latest/customize.html#configuration)\n",
    "Additionally, the `Python Test Explorer` extension was installed.\n",
    "\n",
    "PyTest was unable to load in VS code although Anaconda Prompt could conduct the tests. A [GitHub discussion](https://github.com/DonJayamanne/pythonVSCode/issues/307https://github.com/DonJayamanne/pythonVSCode/issues/307) mentioned some solution suggestions and discussed the pytest.ini file as well."
   ]
  },
  {
   "cell_type": "code",
   "execution_count": null,
   "metadata": {},
   "outputs": [],
   "source": []
  }
 ],
 "metadata": {
  "kernelspec": {
   "display_name": "Python 3",
   "language": "python",
   "name": "python3"
  },
  "language_info": {
   "codemirror_mode": {
    "name": "ipython",
    "version": 3
   },
   "file_extension": ".py",
   "mimetype": "text/x-python",
   "name": "python",
   "nbconvert_exporter": "python",
   "pygments_lexer": "ipython3",
   "version": "3.7.0"
  }
 },
 "nbformat": 4,
 "nbformat_minor": 2
}
