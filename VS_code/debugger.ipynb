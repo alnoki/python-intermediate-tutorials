{
 "cells": [
  {
   "cell_type": "code",
   "execution_count": 1,
   "metadata": {},
   "outputs": [
    {
     "data": {
      "text/html": [
       "<iframe width=\"400\" height=\"225\"\n",
       "src=\"https://www.youtube.com/embed/w8QHoVam1-I\" frameborder=\"0\" allowfullscreen></iframe>"
      ],
      "text/plain": [
       "<IPython.core.display.HTML object>"
      ]
     },
     "metadata": {},
     "output_type": "display_data"
    }
   ],
   "source": [
    "%%HTML\n",
    "<iframe width=\"400\" height=\"225\"\n",
    "src=\"https://www.youtube.com/embed/w8QHoVam1-I\" frameborder=\"0\" allowfullscreen></iframe>"
   ]
  },
  {
   "cell_type": "markdown",
   "metadata": {},
   "source": [
    "# `VS_code\\debugger`\n",
    "Contains files used for tutorial\n",
    "\n",
    "A single Python file can be ran in terminal. Additionally, `F5` can be used to enter debugger\n",
    "\n",
    "The `launch.json` file describes the settings for running a debugger\n",
    "\n",
    "When in the debugger, hovering over variables can display their assigned values\n",
    "\n",
    "Additionally, `Debug: Add to Watch` will add variables to the watch section on the left, so they can be manually inspected\n",
    "\n",
    "Adding a breakpoint via the red circle can be used for logging, by right-clicking the red circle and selecting `\"Log Message\"`. This is analagous to inserting a print statement. The output will be placed in `DEBUG CONSOLE`, and `{}` can be used like in f-strings\n",
    "\n",
    "`Conditional breakpoints` can be used as well to specify when a breakpoint will be hit\n",
    "\n",
    "In the `BREAKPOINTS` view, exceptions can be used as a breakpoint type"
   ]
  },
  {
   "cell_type": "markdown",
   "metadata": {},
   "source": [
    "# [VS Code python debugging documentation](https://code.visualstudio.com/docs/python/debugging#_standard-configuration-and-options)\n",
    "The `stopOnEntry` setting allows for the debugger to break at the first line of the program being debugged\n",
    "\n",
    "The `console` setting allows for the debugger to display output in either the terminal or the debugger console\n",
    "\n",
    "According to [VS Code unit testing](https://code.visualstudio.com/docs/python/unit-testing) documentation, debugging unit tests (`pytest` included) involves breakpoints and variable/stack inspection in an analagous forms\n",
    "\n",
    "# [VS Code debugging (node.js example) documentation](https://code.visualstudio.com/docs/editor/debugging)\n",
    "Contains graphical depiction of breakpoints and logpoints\n",
    "\n",
    "`Variables` can be analyzed relative to the `namespace` of each member in the `CALL STACK`\n",
    "\n",
    "Additionally, values can be modified using the `Set Value` action from a context menu of a variable\n",
    "\n",
    "There is additional documentation on `launch.json` arugments, which can be filled in via `intellisense` using `ctrl+space`\n",
    "\n",
    "Function names breakpoints can also be selected as a breakpoint type"
   ]
  },
  {
   "cell_type": "code",
   "execution_count": null,
   "metadata": {},
   "outputs": [],
   "source": []
  }
 ],
 "metadata": {
  "kernelspec": {
   "display_name": "Python 3",
   "language": "python",
   "name": "python3"
  },
  "language_info": {
   "codemirror_mode": {
    "name": "ipython",
    "version": 3
   },
   "file_extension": ".py",
   "mimetype": "text/x-python",
   "name": "python",
   "nbconvert_exporter": "python",
   "pygments_lexer": "ipython3",
   "version": "3.7.0"
  }
 },
 "nbformat": 4,
 "nbformat_minor": 2
}
