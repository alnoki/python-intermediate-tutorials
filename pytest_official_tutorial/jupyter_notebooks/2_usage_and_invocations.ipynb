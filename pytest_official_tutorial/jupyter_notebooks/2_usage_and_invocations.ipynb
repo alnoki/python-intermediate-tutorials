{
 "cells": [
  {
   "cell_type": "markdown",
   "metadata": {},
   "source": [
    "# [Usage and invocations](https://docs.pytest.org/en/latest/usage.html)\n",
    "Add the current directory to system path and then call pytest\n",
    "\n",
    "`python -m pytest`\n",
    "\n",
    "Various topics are mentioned\n",
    "1. Exit codes\n",
    "2. Versions, fixtures, and general help\n",
    "3. Stop after the first (N) failures\n",
    "4. Running tests inside of a specific directory\n",
    "\n",
    "It was discovered that the specific directory option could be integrated with the `VS Code` settings via the below settings:"
   ]
  },
  {
   "cell_type": "raw",
   "metadata": {},
   "source": [
    "    // Command line arguments\n",
    "    \"python.unitTest.pyTestArgs\": [\n",
    "        // Sets root directory for test discovery (assumed)\n",
    "        \"--rootdir=.\\\\pytest_official_tutorial\",\n",
    "        // Says only to run tests in this directory\n",
    "        \"pytest_official_tutorial\",\n",
    "    ],"
   ]
  },
  {
   "cell_type": "markdown",
   "metadata": {},
   "source": [
    "It was determined that the `rootdir` argument did not prevent tests from being discovered in another tutorial package, which was continually failing. However, the `pytest_official_tutorial` argument indicated to only run the tests in that specific directory.\n",
    "\n",
    "Continuing,\n",
    "\n",
    "5. Specific tests can be selected\n",
    "6. Marker expressions can be selectively run\n",
    "7. Packages can be selected"
   ]
  },
  {
   "cell_type": "markdown",
   "metadata": {},
   "source": [
    "## [Tracebacks and variables](https://docs.pytest.org/en/latest/usage.html#modifying-python-traceback-printing)\n",
    "Variables and tracebacks can be printed in output using various extra arguments. A `traceback` is the block of test printed for each test. The traceback can be reduced to a single line, or expanded, and local variable values can be printed as well.\n",
    "## [Detailed results summary reports](https://docs.pytest.org/en/latest/usage.html#detailed-summary-report)\n",
    "The `-r` flag will show results at the end of a session. Thus to show minimal traceback and only failed results, use\n",
    "\n",
    "`pytest --tb=no -ra`\n",
    "## [Dropping to debugger on failures](https://docs.pytest.org/en/latest/usage.html#dropping-to-pdb-python-debugger-on-failures)\n",
    "Python 3.7 includes [pdb](https://docs.python.org/3/library/pdb.htmlhttps://docs.python.org/3/library/pdb.html), an interactive debugger. To drop into the debugger on a failure, use\n",
    "\n",
    "`pytest --pdb`\n",
    "\n",
    "This will allow for variables to be inspecting, and the `pdb` prompt can be continued to next fail via\n",
    "\n",
    "`continue`\n",
    "\n",
    "Breakpoints can also be defined via the `breakpoint()` function\n",
    "## [Profiling test execution duraction](https://docs.pytest.org/en/latest/usage.html#profiling-test-execution-duration)\n",
    "To get a list of the slowest 10 tests:\n",
    "\n",
    "`pytest --durations=10`\n",
    "\n",
    "## [Extra file formats and plugins](https://docs.pytest.org/en/latest/usage.html#creating-junitxml-format-files)\n",
    "`pytest` can be used with `Jenkins`, or can post results online.\n",
    "\n",
    "To disable plugins, for example doctest:\n",
    "\n",
    "`pytest -p no:doctest`\n",
    "\n",
    "## [Calling pytest from Python code](https://docs.pytest.org/en/latest/usage.html#calling-pytest-from-python-code)\n",
    "`pytest` can be called from within Python code with various arguments. To run with minimal traceback and only failed results:"
   ]
  },
  {
   "cell_type": "code",
   "execution_count": null,
   "metadata": {},
   "outputs": [],
   "source": [
    "pytest.main(['--tb=no', '-ra'])"
   ]
  },
  {
   "cell_type": "markdown",
   "metadata": {},
   "source": [
    "Verifying in the interpreter yeilds:"
   ]
  },
  {
   "cell_type": "raw",
   "metadata": {},
   "source": [
    "(tutorials) C:\\Users\\kahna\\Documents\\Code\\python-intermediate-tutorials\\pytest_official_tutorial\\1_getting_started>python\n",
    "Python 3.7.1 (default, Oct 23 2018, 22:56:47) [MSC v.1912 64 bit (AMD64)] :: Anaconda, Inc. on win32\n",
    "Type \"help\", \"copyright\", \"credits\" or \"license\" for more information.\n",
    ">>> import pytest\n",
    ">>> pytest.main(['--tb=no', '-ra'])\n",
    "============================= test session starts =============================\n",
    "platform win32 -- Python 3.7.1, pytest-3.9.1, py-1.7.0, pluggy-0.8.0\n",
    "rootdir: C:\\Users\\kahna\\Documents\\Code\\python-intermediate-tutorials\\pytest_official_tutorial, inifile:\n",
    "collected 5 items\n",
    "\n",
    "test_class.py .F                                                         [ 40%]\n",
    "test_sample.py F                                                         [ 60%]\n",
    "test_sysexit.py .                                                        [ 80%]\n",
    "test_tmpdir.py F                                                         [100%]\n",
    "=========================== short test summary info ===========================\n",
    "FAIL test_class.py::TestClass::()::test_two\n",
    "FAIL test_sample.py::test_answer\n",
    "FAIL test_tmpdir.py::test_needsfiles\n",
    "\n",
    "===================== 3 failed, 2 passed in 0.06 seconds ======================\n",
    "1\n",
    ">>>"
   ]
  }
 ],
 "metadata": {
  "kernelspec": {
   "display_name": "Python 3",
   "language": "python",
   "name": "python3"
  },
  "language_info": {
   "codemirror_mode": {
    "name": "ipython",
    "version": 3
   },
   "file_extension": ".py",
   "mimetype": "text/x-python",
   "name": "python",
   "nbconvert_exporter": "python",
   "pygments_lexer": "ipython3",
   "version": "3.7.0"
  }
 },
 "nbformat": 4,
 "nbformat_minor": 2
}
