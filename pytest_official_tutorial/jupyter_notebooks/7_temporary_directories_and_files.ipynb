{
 "cells": [
  {
   "cell_type": "markdown",
   "metadata": {
    "toc": true
   },
   "source": [
    "<h1>Table of Contents<span class=\"tocSkip\"></span></h1>\n",
    "<div class=\"toc\"><ul class=\"toc-item\"><li><span><a href=\"#The-tmp_path-fixture\" data-toc-modified-id=\"The-tmp_path-fixture-1\"><span class=\"toc-item-num\">1&nbsp;&nbsp;</span>The <code>tmp_path</code> fixture</a></span></li><li><span><a href=\"#The-tmp_path_factory-fixture\" data-toc-modified-id=\"The-tmp_path_factory-fixture-2\"><span class=\"toc-item-num\">2&nbsp;&nbsp;</span>The <code>tmp_path_factory</code> fixture</a></span></li><li><span><a href=\"#The-tmpdir-fixture\" data-toc-modified-id=\"The-tmpdir-fixture-3\"><span class=\"toc-item-num\">3&nbsp;&nbsp;</span>The <code>tmpdir</code> fixture</a></span></li><li><span><a href=\"#The-tmpdir_factory-fixture\" data-toc-modified-id=\"The-tmpdir_factory-fixture-4\"><span class=\"toc-item-num\">4&nbsp;&nbsp;</span>The <code>tmpdir_factory</code> fixture</a></span></li><li><span><a href=\"#The-default-base-temporary-directory\" data-toc-modified-id=\"The-default-base-temporary-directory-5\"><span class=\"toc-item-num\">5&nbsp;&nbsp;</span>The default base temporary directory</a></span></li></ul></div>"
   ]
  },
  {
   "cell_type": "markdown",
   "metadata": {},
   "source": [
    "# Temporary directories and files <a class=\"tocSkip\">"
   ]
  },
  {
   "cell_type": "markdown",
   "metadata": {},
   "source": [
    "[Temporary directories and files](https://docs.pytest.org/en/latest/tmpdir.html)\n",
    "\n",
    "`.py` files saved in `5_temporary_dirs_and_files`"
   ]
  },
  {
   "cell_type": "markdown",
   "metadata": {
    "heading_collapsed": true
   },
   "source": [
    "# The `tmp_path` fixture"
   ]
  },
  {
   "cell_type": "markdown",
   "metadata": {
    "hidden": true
   },
   "source": [
    "[The `tmp_path` fixture](https://docs.pytest.org/en/latest/tmpdir.html#the-tmp-path-fixture)\n",
    "\n",
    "The `tmp_path` fixture provides a temporary direcotry unique to the test invocation\n",
    "\n",
    "`tmp_path` is a `pathlib/pathlib2.Path` object:"
   ]
  },
  {
   "cell_type": "code",
   "execution_count": 1,
   "metadata": {
    "hidden": true
   },
   "outputs": [],
   "source": [
    "# content of test_tmp_path.py\n",
    "import os\n",
    "\n",
    "CONTENT = u'content'\n",
    "\n",
    "def test_create_file(tmp_path):\n",
    "    d = tmp_path / 'sub'\n",
    "    d.mkdir()\n",
    "    p = d / 'hello.txt'\n",
    "    p.write_text(CONTENT)\n",
    "    assert p.read_text() == CONTENT\n",
    "    assert len(list(tmp_path.iterdir())) == 1\n",
    "    assert 0"
   ]
  },
  {
   "cell_type": "markdown",
   "metadata": {
    "hidden": true
   },
   "source": [
    "Running this test would result in a passed test except for the last `assert 0` line which is used to look at values:"
   ]
  },
  {
   "cell_type": "raw",
   "metadata": {
    "hidden": true
   },
   "source": [
    "$ pytest test_tmp_path.py -q\n",
    "F                                                                        [100%]\n",
    "================================== FAILURES ===================================\n",
    "______________________________ test_create_file _______________________________\n",
    "\n",
    "tmp_path = WindowsPath('C:/Users/kahna/AppData/Local/Temp/pytest-of-kahna/pytest-43/test_create_file0')\n",
    "\n",
    "    def test_create_file(tmp_path):\n",
    "        d = tmp_path / 'sub'\n",
    "        d.mkdir()\n",
    "        p = d / 'hello.txt'\n",
    "        p.write_text(CONTENT)\n",
    "        assert p.read_text() == CONTENT\n",
    "        assert len(list(tmp_path.iterdir())) == 1\n",
    ">       assert 0\n",
    "E       assert 0\n",
    "\n",
    "test_tmp_path.py:13: AssertionError\n",
    "1 failed in 0.04 seconds"
   ]
  },
  {
   "cell_type": "markdown",
   "metadata": {
    "heading_collapsed": true
   },
   "source": [
    "# The `tmp_path_factory` fixture"
   ]
  },
  {
   "cell_type": "markdown",
   "metadata": {
    "hidden": true
   },
   "source": [
    "[The `tmp_path_factory` fixture](https://docs.pytest.org/en/latest/tmpdir.html#the-tmp-path-factory-fixture)\n",
    "\n",
    "The `tmp_path_factory` is a session-scoped fixture which can be used to create arbitrary temporary directories form any other fixture or test\n",
    "\n",
    "It is intended to replace `tmpdir_factory`, and returns `pathlib.Path` instances"
   ]
  },
  {
   "cell_type": "markdown",
   "metadata": {
    "heading_collapsed": true
   },
   "source": [
    "# The `tmpdir` fixture"
   ]
  },
  {
   "cell_type": "markdown",
   "metadata": {
    "hidden": true
   },
   "source": [
    "See [The 'tmpdir' fixure](https://docs.pytest.org/en/latest/tmpdir.html#the-tmpdir-fixture)\n",
    "\n",
    "The `tmpdir` fixture provides a temporary directory unique to the test invocation\n",
    "\n",
    "`tmpdir` is a [`py.path.local`](https://py.readthedocs.io/en/latest/path.html) object which offers `os.path` methods and more:"
   ]
  },
  {
   "cell_type": "code",
   "execution_count": null,
   "metadata": {
    "hidden": true
   },
   "outputs": [],
   "source": [
    "# content of test_tmpdir.py\n",
    "import os\n",
    "def test_create_file(tmpdir):\n",
    "    p = tmpdir.mkdir(\"sub\").join(\"hello.txt\")\n",
    "    p.write(\"content\")\n",
    "    assert p.read() == \"content\"\n",
    "    assert len(tmpdir.listdir()) == 1\n",
    "    assert 0"
   ]
  },
  {
   "cell_type": "markdown",
   "metadata": {
    "hidden": true
   },
   "source": [
    "The last line is asserted 0 to allow for inspection:"
   ]
  },
  {
   "cell_type": "raw",
   "metadata": {
    "hidden": true
   },
   "source": [
    "$ pytest test_tmpdir.py -q\n",
    "F                                                                        [100%]\n",
    "================================== FAILURES ===================================\n",
    "______________________________ test_create_file _______________________________\n",
    "\n",
    "tmpdir = local('C:\\\\Users\\\\kahna\\\\AppData\\\\Local\\\\Temp\\\\pytest-of-kahna\\\\pytest-38\\\\test_create_file0')\n",
    "\n",
    "    def test_create_file(tmpdir):\n",
    "        p = tmpdir.mkdir(\"sub\").join(\"hello.txt\")\n",
    "        p.write(\"content\")\n",
    "        assert p.read() == \"content\"\n",
    "        assert len(tmpdir.listdir()) == 1\n",
    ">       assert 0\n",
    "E       assert 0\n",
    "\n",
    "test_tmpdir.py:9: AssertionError\n",
    "1 failed in 0.07 seconds"
   ]
  },
  {
   "cell_type": "markdown",
   "metadata": {
    "heading_collapsed": true
   },
   "source": [
    "# The `tmpdir_factory` fixture"
   ]
  },
  {
   "cell_type": "markdown",
   "metadata": {
    "hidden": true
   },
   "source": [
    "See [The `tmpdir_factory` fixture](https://docs.pytest.org/en/latest/tmpdir.html#the-tmpdir-fixture)\n",
    "\n",
    "The `tmpdir_factory` is a session-scoped fixture which can be used to create arbitrary temporary directories from any other fixture or test\n",
    "\n",
    "Consider a large image on disk that needs to be generated procedurally, but only once per session:"
   ]
  },
  {
   "cell_type": "code",
   "execution_count": null,
   "metadata": {
    "hidden": true
   },
   "outputs": [],
   "source": [
    "# contents of conftest.py\n",
    "import pytest\n",
    "\n",
    "\n",
    "@pytest.fixture(scope=\"session\")\n",
    "def image_file(tmpdir_factory):\n",
    "    img = compute_expensive_image()\n",
    "    fn = tmpdir_factory.mktemp(\"data\").join(\"img.png\")\n",
    "    img.save(str(fn))\n",
    "    return fn\n",
    "\n",
    "\n",
    "# contents of test_image.py\n",
    "def test_histogram(image_file):\n",
    "    img = load_image(image_file)\n",
    "    # compute and test histogram"
   ]
  },
  {
   "cell_type": "markdown",
   "metadata": {
    "hidden": true
   },
   "source": [
    "In this case, `image_file` is a fixture that provides the relevant disk image to `test_image.py`\n",
    "\n",
    "See [tmpdir_factory API documentation](https://docs.pytest.org/en/latest/reference.html#tmpdir-factory-api) for more details"
   ]
  },
  {
   "cell_type": "markdown",
   "metadata": {
    "heading_collapsed": true
   },
   "source": [
    "# The default base temporary directory"
   ]
  },
  {
   "cell_type": "markdown",
   "metadata": {
    "hidden": true
   },
   "source": [
    "Temporary directories are by default created as sub-directories of the system temporary directory\n",
    "\n",
    "The base name will be `pytest-NUM`, where `NUM` will be incremented with each test run\n",
    "\n",
    "Entries older than 3 temporary directories will be removed\n",
    "\n",
    "For example, subsequent calls to the test from [The `tmpdir_factory` fixture](#The-tmp_path-fixture) yield:"
   ]
  },
  {
   "cell_type": "raw",
   "metadata": {
    "hidden": true
   },
   "source": [
    "tmp_path = WindowsPath('C:/Users/kahna/AppData/Local/Temp/pytest-of-kahna/pytest-43/test_create_file0')\n",
    "tmp_path = WindowsPath('C:/Users/kahna/AppData/Local/Temp/pytest-of-kahna/pytest-44/test_create_file0')\n",
    "tmp_path = WindowsPath('C:/Users/kahna/AppData/Local/Temp/pytest-of-kahna/pytest-45/test_create_file0')"
   ]
  },
  {
   "cell_type": "markdown",
   "metadata": {
    "hidden": true
   },
   "source": [
    "The directories can be accessed via the OS GUI, but only the most recent 3 directories are kept\n",
    "\n",
    "The default temporary directory can be set via:\n",
    "\n",
    "`pytest --basetemp=mydir`"
   ]
  }
 ],
 "metadata": {
  "kernelspec": {
   "display_name": "Python 3",
   "language": "python",
   "name": "python3"
  },
  "language_info": {
   "codemirror_mode": {
    "name": "ipython",
    "version": 3
   },
   "file_extension": ".py",
   "mimetype": "text/x-python",
   "name": "python",
   "nbconvert_exporter": "python",
   "pygments_lexer": "ipython3",
   "version": "3.7.0"
  },
  "toc": {
   "base_numbering": 1,
   "nav_menu": {},
   "number_sections": true,
   "sideBar": true,
   "skip_h1_title": false,
   "title_cell": "Table of Contents",
   "title_sidebar": "Contents",
   "toc_cell": true,
   "toc_position": {},
   "toc_section_display": true,
   "toc_window_display": false
  }
 },
 "nbformat": 4,
 "nbformat_minor": 2
}
