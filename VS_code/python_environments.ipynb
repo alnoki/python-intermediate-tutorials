{
 "cells": [
  {
   "cell_type": "markdown",
   "metadata": {},
   "source": [
    "# [Configuring Python Environments](https://code.visualstudio.com/docs/python/environments)\n",
    "An `environment` is the interpreter and any installed packages\n",
    "\n",
    "Use **Python: Select Interpreter** command to select the intepreter. This interpreter gets used to run files in the terminal or to create a new terminal. Using a command in the terminal will install in whatever environment is in use\n",
    "\n",
    "Note that this enviroment is not the same one used for debugging\n",
    "\n",
    "A terminal will be made with the selected interpreter in it when a new terminal is opened in VS Code\n",
    "\n",
    "Note that conda can be automatically activated if PowerShell is set as integrated shell"
   ]
  },
  {
   "cell_type": "markdown",
   "metadata": {},
   "source": [
    "## Using Anaconda Prompt in VS Code\n",
    "A [Github forum](https://github.com/Microsoft/vscode/issues/42244) provides some sample code for chosing which terminal to use\n",
    "\n",
    "[VS Code terminal documentation](https://code.visualstudio.com/docs/editor/integrated-terminal) describes some invocation methods and arguments\n",
    "\n",
    "The `Anaconda Prompt` on windows is actually shortcut with \"target\"\n",
    "\n",
    "`%windir%\\System32\\cmd.exe \"/K\" C:\\Users\\kahna\\AppData\\Local\\Continuum\\anaconda3\\Scripts\\activate.bat C:\\Users\\kahna\\AppData\\Local\\Continuum\\anaconda3`\n",
    "\n",
    "This agrees with sample code from the [Github forum](https://github.com/Microsoft/vscode/issues/42244). From inside `C:\\Windows\\System32\\cmd.exe`, calling `C:\\Users\\kahna\\AppData\\Local\\Continuum\\anaconda3\\Scripts\\activate.bat` would open the `conda` prompt\n",
    "\n",
    "To use in VS Code, `settings.json` should have:"
   ]
  },
  {
   "cell_type": "raw",
   "metadata": {},
   "source": [
    "    // For using windows command prompt\n",
    "    \"terminal.integrated.shell.windows\": \"C:\\\\Windows\\\\System32\\\\cmd.exe\",\n",
    "    // Enable conda in command prompt via batch file\n",
    "    \"terminal.integrated.shellArgs.windows\": [\"/K\",\n",
    "        \"C:\\\\Users\\\\kahna\\\\AppData\\\\Local\\\\Continuum\\\\anaconda3\\\\Scripts\\\\activate.bat\"]"
   ]
  },
  {
   "cell_type": "code",
   "execution_count": null,
   "metadata": {},
   "outputs": [],
   "source": []
  }
 ],
 "metadata": {
  "kernelspec": {
   "display_name": "Python 3",
   "language": "python",
   "name": "python3"
  },
  "language_info": {
   "codemirror_mode": {
    "name": "ipython",
    "version": 3
   },
   "file_extension": ".py",
   "mimetype": "text/x-python",
   "name": "python",
   "nbconvert_exporter": "python",
   "pygments_lexer": "ipython3",
   "version": "3.7.0"
  }
 },
 "nbformat": 4,
 "nbformat_minor": 2
}
