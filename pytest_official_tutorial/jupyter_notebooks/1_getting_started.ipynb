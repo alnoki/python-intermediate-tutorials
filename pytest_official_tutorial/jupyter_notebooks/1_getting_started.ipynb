{
 "cells": [
  {
   "cell_type": "markdown",
   "metadata": {},
   "source": [
    "# Resources\n",
    "1. [pytest.org](https://docs.pytest.org)\n",
    "2. [pytest Good Integration Practices](https://docs.pytest.org/en/latest/goodpractices.html)\n",
    "3. [codebasics (YouTube channel) pytest playlist](https://www.youtube.com/playlist?list=PLeo1K3hjS3utzQYDNRNluzqJqpMXx6hHu)\n",
    "4. [Full pytest documentation](https://docs.pytest.org/en/latest/contents.html)"
   ]
  },
  {
   "cell_type": "markdown",
   "metadata": {},
   "source": [
    "# [pytest.org](https://docs.pytest.org) Home Page\n",
    "Simple tests contained at `pytest_official_tutorial\\1_getting_started`\n",
    "\n",
    "The `pytest-official-tutorial` package had to be installed in accordance with [pytest Good Integration Practices](https://docs.pytest.org/en/latest/goodpractices.html) via navigating to `C:\\Users\\kahna\\Documents\\Code\\python-intermediate-tutorials\\pytest_official_tutorial` and using\n",
    "\n",
    "`pip install -e .`\n",
    "\n",
    "Initially, pytest was performed from inside `Anaconda prompt` in order to determine correct `VS Code` configurations, but after initial configuration attempts, `VS Code` began to recognize tests via the following `.JSON` settings:"
   ]
  },
  {
   "cell_type": "raw",
   "metadata": {},
   "source": [
    "    \"python.unitTest.unittestEnabled\": false,\n",
    "    \"python.unitTest.pyTestEnabled\": true,\n",
    "    \"python.unitTest.nosetestsEnabled\": false,\n",
    "    \"python.unitTest.pyTestArgs\": [\n",
    "        \"--rootdir=.\\\\pytest_official_tutorial\"\n",
    "    ],"
   ]
  },
  {
   "cell_type": "markdown",
   "metadata": {},
   "source": [
    "The discovery worked for `pytest_official_tutorial\\1_getting_started\\test_sample.py` using the `Run Test` button inside `VS Code` editor, but the `run all unit tests` command failed due to tests in another directory."
   ]
  },
  {
   "cell_type": "markdown",
   "metadata": {},
   "source": [
    "# [Getting started](https://docs.pytest.org/en/latest/getting-started.html#getstarted)\n",
    "`pytest --version` was used to check the version. Additional files where created in `pytest_official_tutorial\\1_getting_started`\n",
    "\n",
    "To run a single file in `quiet mode`, use\n",
    "\n",
    "`pytest -q test_sysexit.py`\n",
    "\n",
    "To request an arbitrary resource like a temporary directory, use\n",
    "\n",
    "`tmpdir`\n",
    "\n",
    "Additional fixtures are found via\n",
    "\n",
    "`pytest --fixtures`"
   ]
  },
  {
   "cell_type": "code",
   "execution_count": null,
   "metadata": {},
   "outputs": [],
   "source": []
  }
 ],
 "metadata": {
  "kernelspec": {
   "display_name": "Python 3",
   "language": "python",
   "name": "python3"
  },
  "language_info": {
   "codemirror_mode": {
    "name": "ipython",
    "version": 3
   },
   "file_extension": ".py",
   "mimetype": "text/x-python",
   "name": "python",
   "nbconvert_exporter": "python",
   "pygments_lexer": "ipython3",
   "version": "3.7.0"
  }
 },
 "nbformat": 4,
 "nbformat_minor": 2
}
