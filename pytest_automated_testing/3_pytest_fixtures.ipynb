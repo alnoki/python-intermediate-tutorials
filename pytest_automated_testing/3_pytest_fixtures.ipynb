{
 "cells": [
  {
   "cell_type": "code",
   "execution_count": 1,
   "metadata": {},
   "outputs": [
    {
     "data": {
      "text/html": [
       "<iframe width=\"400\" height=\"225\" src=\"https://www.youtube.com/embed/IVrGz8w0H8c?list=PLeo1K3hjS3utzQYDNRNluzqJqpMXx6hHu\"\n",
       "allowfullscreen></iframe>"
      ],
      "text/plain": [
       "<IPython.core.display.HTML object>"
      ]
     },
     "metadata": {},
     "output_type": "display_data"
    }
   ],
   "source": [
    "%%HTML\n",
    "<iframe width=\"400\" height=\"225\" src=\"https://www.youtube.com/embed/IVrGz8w0H8c?list=PLeo1K3hjS3utzQYDNRNluzqJqpMXx6hHu\"\n",
    "allowfullscreen></iframe>"
   ]
  },
  {
   "cell_type": "markdown",
   "metadata": {},
   "source": [
    "# Repeated test code\n",
    "`src/mydb.py` is a fake database that returns several simple values for fake employees. It mimics sql behavior. The simple test case syntax would read:"
   ]
  },
  {
   "cell_type": "code",
   "execution_count": null,
   "metadata": {},
   "outputs": [],
   "source": [
    "def test_johns_id():\n",
    "    db = MyDB()\n",
    "    conn = db.connect('server')\n",
    "    cur = conn.cursor()\n",
    "    id = cur.execute(\"select id from employee_db where name=John\")\n",
    "    assert id == 123\n",
    "def test_johns_id():\n",
    "    db = MyDB()\n",
    "    conn = db.connect('server')\n",
    "    cur = conn.cursor()\n",
    "    id = cur.execute(\"select id from employee_db where name=Tom\")\n",
    "    assert id == 789"
   ]
  },
  {
   "cell_type": "markdown",
   "metadata": {},
   "source": [
    "However, the first three lines of each test case are repeated. Additionally, an sql connection is an expensive resource"
   ]
  },
  {
   "cell_type": "markdown",
   "metadata": {},
   "source": [
    "# Setup and teardown via global variables\n",
    "By defining the `setup_module` and `teardown_module` functions, the code can be reduced so that steps are not repeated. Note the use of global variables:"
   ]
  },
  {
   "cell_type": "code",
   "execution_count": null,
   "metadata": {},
   "outputs": [],
   "source": [
    "conn = None  # Global\n",
    "cur = None  # Global\n",
    "\n",
    "def setup_module(module):\n",
    "    global conn\n",
    "    global cur\n",
    "    db = MyDB()\n",
    "    conn = db.connect('server')\n",
    "    cur = conn.cursor()\n",
    "\n",
    "def teardown_module(module):\n",
    "    cur.close()\n",
    "    conn.close()\n",
    "\n",
    "def test_johns_id():\n",
    "    id = cur.execute(\"select id from employee_db where name=John\")\n",
    "    assert id == 123\n",
    "\n",
    "def test_johns_id():\n",
    "    id = cur.execute(\"select id from employee_db where name=Tom\")\n",
    "    assert id == 789"
   ]
  },
  {
   "cell_type": "markdown",
   "metadata": {},
   "source": [
    "# Defining a fixture\n",
    "the `pytest.fixture` decorator can be used to return the same cursor as before for every test. Note the use of `cur` being passed to each test, and that `cur` is being passed to each test, not the return value `curs`"
   ]
  },
  {
   "cell_type": "code",
   "execution_count": null,
   "metadata": {},
   "outputs": [],
   "source": [
    "@pytest.fixture\n",
    "def cur():\n",
    "    print(\"setting up\")\n",
    "    db = MyDB()\n",
    "    conn = db.connect(\"server\")\n",
    "    curs = conn.cursor()\n",
    "    return curs\n",
    "\n",
    "def test_johns_id(cur):\n",
    "    id = cur.execute(\"select id from employee_db where name=John\")\n",
    "    assert id == 123\n",
    "\n",
    "def test_toms_id(cur):\n",
    "    id = cur.execute(\"select id from employee_db where name=Tom\")\n",
    "    assert id == 789"
   ]
  },
  {
   "cell_type": "markdown",
   "metadata": {},
   "source": [
    "However, in this case, a new cursor is being created for each test. By running `pytest -v --capture=no`, which allows the printing to go to the anaconda terminal, the following results are obtained:"
   ]
  },
  {
   "cell_type": "raw",
   "metadata": {},
   "source": [
    "(base) C:\\Users\\kahna\\PycharmProjects\\python-intermediate-tutorials\\pytest_automated_testing>pytest -v --capture=no\n",
    "============================= test session starts =============================\n",
    "platform win32 -- Python 3.7.0, pytest-3.8.0, py-1.6.0, pluggy-0.7.1 -- C:\\Users\\kahna\\AppData\\Local\\Continuum\\anaconda3\\python.exe\n",
    "cachedir: .pytest_cache\n",
    "rootdir: C:\\Users\\kahna\\PycharmProjects\\python-intermediate-tutorials\\pytest_automated_testing, inifile:\n",
    "plugins: remotedata-0.3.0, openfiles-0.3.0, doctestplus-0.1.3, arraydiff-0.2\n",
    "collected 9 items\n",
    "\n",
    "test/test_mathlib.py::test_calc_total PASSED\n",
    "test/test_mathlib.py::test_calc_multiply PASSED\n",
    "test/test_mathlib.py::test_dummy PASSED\n",
    "test/test_mathlib.py::test_windows_1 PASSED\n",
    "test/test_mathlib.py::test_windows_2 PASSED\n",
    "test/test_mathlib.py::test_mac_1 PASSED\n",
    "test/test_mathlib.py::test_mac_2 PASSED\n",
    "test/test_mydb.py::test_johns_id setting up\n",
    "PASSED\n",
    "test/test_mydb.py::test_toms_id setting up\n",
    "PASSED\n",
    "\n",
    "========================== 9 passed in 0.06 seconds ==========================="
   ]
  },
  {
   "cell_type": "markdown",
   "metadata": {},
   "source": [
    "Note that the setting up command was called twice, such that this fixture gets created anew for each test, which is not desired for the database cursor"
   ]
  },
  {
   "cell_type": "markdown",
   "metadata": {},
   "source": [
    "# Module scope in a fixture\n",
    "My using the `scope='module'` keyword argument, the setup can be configured to only run at the beginning of the test module instead of before each test:"
   ]
  },
  {
   "cell_type": "code",
   "execution_count": null,
   "metadata": {},
   "outputs": [],
   "source": [
    "@pytest.fixture(scope='module')\n",
    "def cur():\n",
    "    print(\"setting up\")\n",
    "    db = MyDB()\n",
    "    conn = db.connect(\"server\")\n",
    "    curs = conn.cursor()\n",
    "    return curs"
   ]
  },
  {
   "cell_type": "markdown",
   "metadata": {},
   "source": [
    "This yields the setup only happening once:"
   ]
  },
  {
   "cell_type": "raw",
   "metadata": {},
   "source": [
    "(base) C:\\Users\\kahna\\PycharmProjects\\python-intermediate-tutorials\\pytest_automated_testing>pytest -v --capture=no\n",
    "============================= test session starts =============================\n",
    "platform win32 -- Python 3.7.0, pytest-3.8.0, py-1.6.0, pluggy-0.7.1 -- C:\\Users\\kahna\\AppData\\Local\\Continuum\\anaconda3\\python.exe\n",
    "cachedir: .pytest_cache\n",
    "rootdir: C:\\Users\\kahna\\PycharmProjects\\python-intermediate-tutorials\\pytest_automated_testing, inifile:\n",
    "plugins: remotedata-0.3.0, openfiles-0.3.0, doctestplus-0.1.3, arraydiff-0.2\n",
    "collected 9 items\n",
    "\n",
    "test/test_mathlib.py::test_calc_total PASSED\n",
    "test/test_mathlib.py::test_calc_multiply PASSED\n",
    "test/test_mathlib.py::test_dummy PASSED\n",
    "test/test_mathlib.py::test_windows_1 PASSED\n",
    "test/test_mathlib.py::test_windows_2 PASSED\n",
    "test/test_mathlib.py::test_mac_1 PASSED\n",
    "test/test_mathlib.py::test_mac_2 PASSED\n",
    "test/test_mydb.py::test_johns_id setting up\n",
    "PASSED\n",
    "test/test_mydb.py::test_toms_id PASSED\n",
    "\n",
    "========================== 9 passed in 0.04 seconds ==========================="
   ]
  },
  {
   "cell_type": "markdown",
   "metadata": {},
   "source": [
    "# Teardown via yield operator\n",
    "By using the `yield` operator in the fixture, the shutdown can be handled automatically. This is similar to a context manager:"
   ]
  },
  {
   "cell_type": "code",
   "execution_count": null,
   "metadata": {},
   "outputs": [],
   "source": [
    "@pytest.fixture(scope='module')\n",
    "def cur():\n",
    "    print(\"setting up\")\n",
    "    db = MyDB()\n",
    "    conn = db.connect(\"server\")\n",
    "    curs = conn.cursor()\n",
    "    yield curs\n",
    "    print(\"closing down\")\n",
    "    curs.close()\n",
    "    conn.close()\n",
    "    \n",
    "def test_johns_id(cur):\n",
    "    id = cur.execute(\"select id from employee_db where name=John\")\n",
    "    assert id == 123\n",
    "\n",
    "\n",
    "def test_toms_id(cur):\n",
    "    id = cur.execute(\"select id from employee_db where name=Tom\")\n",
    "    assert id == 789"
   ]
  },
  {
   "cell_type": "raw",
   "metadata": {},
   "source": [
    "(base) C:\\Users\\kahna\\PycharmProjects\\python-intermediate-tutorials\\pytest_automated_testing>pytest -v --capture=no\n",
    "============================= test session starts =============================\n",
    "platform win32 -- Python 3.7.0, pytest-3.8.0, py-1.6.0, pluggy-0.7.1 -- C:\\Users\\kahna\\AppData\\Local\\Continuum\\anaconda3\\python.exe\n",
    "cachedir: .pytest_cache\n",
    "rootdir: C:\\Users\\kahna\\PycharmProjects\\python-intermediate-tutorials\\pytest_automated_testing, inifile:\n",
    "plugins: remotedata-0.3.0, openfiles-0.3.0, doctestplus-0.1.3, arraydiff-0.2\n",
    "collected 9 items\n",
    "\n",
    "test/test_mathlib.py::test_calc_total PASSED\n",
    "test/test_mathlib.py::test_calc_multiply PASSED\n",
    "test/test_mathlib.py::test_dummy PASSED\n",
    "test/test_mathlib.py::test_windows_1 PASSED\n",
    "test/test_mathlib.py::test_windows_2 PASSED\n",
    "test/test_mathlib.py::test_mac_1 PASSED\n",
    "test/test_mathlib.py::test_mac_2 PASSED\n",
    "test/test_mydb.py::test_johns_id setting up\n",
    "PASSED\n",
    "test/test_mydb.py::test_toms_id PASSEDclosing down\n",
    "\n",
    "\n",
    "========================== 9 passed in 0.04 seconds ==========================="
   ]
  }
 ],
 "metadata": {
  "kernelspec": {
   "display_name": "Python 3",
   "language": "python",
   "name": "python3"
  },
  "language_info": {
   "codemirror_mode": {
    "name": "ipython",
    "version": 3
   },
   "file_extension": ".py",
   "mimetype": "text/x-python",
   "name": "python",
   "nbconvert_exporter": "python",
   "pygments_lexer": "ipython3",
   "version": "3.7.0"
  }
 },
 "nbformat": 4,
 "nbformat_minor": 2
}
