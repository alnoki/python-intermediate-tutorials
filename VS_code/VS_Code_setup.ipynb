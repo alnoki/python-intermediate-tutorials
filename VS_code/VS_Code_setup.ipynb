{
 "cells": [
  {
   "cell_type": "markdown",
   "metadata": {},
   "source": [
    "# [VS Code install tutorial](https://code.visualstudio.com/docs/?dv=win)\n",
    "[Introductory videos](https://code.visualstudio.com/docs/getstarted/introvideos) were referenced for:\n",
    "1. [Installation](https://code.visualstudio.com/docs/introvideos/basics)\n",
    "2. [Customization](https://code.visualstudio.com/docs/introvideos/configure) for  themes, file icon styles, key bindings\n",
    "3. [Extensions](https://code.visualstudio.com/docs/introvideos/extend)\n",
    "4. [Code editing](https://code.visualstudio.com/docs/introvideos/codeediting) (not viewed)\n",
    "5. [Intellisense](https://code.visualstudio.com/docs/introvideos/codeediting) (not viewed)\n",
    "6. [Debugging](https://code.visualstudio.com/docs/introvideos/debugging) (not viewed)\n",
    "7. [Version Control](https://code.visualstudio.com/docs/introvideos/versioncontrol) (not viewed)"
   ]
  },
  {
   "cell_type": "markdown",
   "metadata": {},
   "source": [
    "# *Privacy*\n",
    "[Disable telemetry reporting](https://code.visualstudio.com/docs/supporting/faq#_how-to-disable-telemetry-reporting)"
   ]
  },
  {
   "cell_type": "markdown",
   "metadata": {},
   "source": [
    "# [Getting started with Python tutorial](https://code.visualstudio.com/docs/python/python-tutorial)\n"
   ]
  },
  {
   "cell_type": "markdown",
   "metadata": {},
   "source": [
    "The `hello` directory was used\n",
    "\n",
    "The workspace settings showed the python path in `.vscode\\settings.json`\n",
    "\n",
    "The `tutorials` conda environment was used to access run some sample code\n",
    "\n",
    "`Shift+Enter` ran a section of code in the default interpreter"
   ]
  },
  {
   "cell_type": "markdown",
   "metadata": {},
   "source": [
    "# [Debugging](https://code.visualstudio.com/docs/python/python-tutorial#_configure-and-run-the-debugger)\n",
    "`launch.json` is the standard name for a debug config file\n",
    "\n",
    "[Debugging Configurations]( https://code.visualstudio.com/docs/python/debugging.md) explains the nature of debug .json data\n",
    "\n",
    "The debug console can individually modify variables during debugging\n",
    "\n",
    "[Logpoints](https://code.visualstudio.com/docs/editor/debugging#_logpoints) can be used instead of manually inspecting a variable during debugging"
   ]
  },
  {
   "cell_type": "code",
   "execution_count": null,
   "metadata": {},
   "outputs": [],
   "source": []
  }
 ],
 "metadata": {
  "kernelspec": {
   "display_name": "Python 3",
   "language": "python",
   "name": "python3"
  },
  "language_info": {
   "codemirror_mode": {
    "name": "ipython",
    "version": 3
   },
   "file_extension": ".py",
   "mimetype": "text/x-python",
   "name": "python",
   "nbconvert_exporter": "python",
   "pygments_lexer": "ipython3",
   "version": "3.7.0"
  }
 },
 "nbformat": 4,
 "nbformat_minor": 2
}
