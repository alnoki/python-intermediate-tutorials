{
 "cells": [
  {
   "cell_type": "markdown",
   "metadata": {},
   "source": [
    "# [The writing and reporting of assertions in tests](https://docs.pytest.org/en/latest/assert.html)\n",
    "`2_asserts\\` contains sample code. Commands were run from inside the 2_asserts directory\n",
    "\n",
    "By including a second argument to the `assert` statement, extra output is placed in the pytest trace. In `test_assert1.py`:"
   ]
  },
  {
   "cell_type": "code",
   "execution_count": null,
   "metadata": {},
   "outputs": [],
   "source": [
    "assert f() == 4, \"Value should have been 4\""
   ]
  },
  {
   "cell_type": "markdown",
   "metadata": {},
   "source": [
    "yields"
   ]
  },
  {
   "cell_type": "raw",
   "metadata": {},
   "source": [
    "================================== FAILURES ===================================\n",
    "________________________________ test_function ________________________________\n",
    "\n",
    "    def test_function():\n",
    ">       assert f() == 4, \"Value should have been 4\"\n",
    "E       AssertionError: Value should have been 4\n",
    "E       assert 3 == 4\n",
    "E        +  where 3 = f()\n",
    "\n",
    "test_assert1.py:6: AssertionError\n",
    "========================== 1 failed in 0.03 seconds ==========================="
   ]
  },
  {
   "cell_type": "markdown",
   "metadata": {},
   "source": [
    "## [Assertions about expected exceptions](https://docs.pytest.org/en/latest/assert.html#assertions-about-expected-exceptions)\n",
    "Context managers can be used to check for raised exceptions and to print out resultant messages about failures. The `pytest.raises()` facility can be used:"
   ]
  },
  {
   "cell_type": "code",
   "execution_count": null,
   "metadata": {},
   "outputs": [],
   "source": [
    "def test_recursion_depth():\n",
    "    with pytest.raises(RuntimeError) as excinfo:\n",
    "        def f():\n",
    "            f()\n",
    "        f()\n",
    "    assert 'maximum recursion' in str(excinfo.value)"
   ]
  },
  {
   "cell_type": "markdown",
   "metadata": {},
   "source": [
    "or, alternatively:"
   ]
  },
  {
   "cell_type": "code",
   "execution_count": null,
   "metadata": {},
   "outputs": [],
   "source": [
    "@pytest.mark.xfail(raises=IndexError)\n",
    "def test_f():\n",
    "    f()"
   ]
  },
  {
   "cell_type": "markdown",
   "metadata": {},
   "source": [
    "However, the first form should be used when a known response is to be tested.\n",
    "\n",
    "The `match` keyword can be used to search for regular expressions in an exception:"
   ]
  },
  {
   "cell_type": "code",
   "execution_count": null,
   "metadata": {},
   "outputs": [],
   "source": [
    "def myfunc():\n",
    "    raise ValueError(\"Exception 123 raised\")\n",
    "\n",
    "def test_match():\n",
    "    with pytest.raises(ValueError, match=r'.* 123 .*'):\n",
    "        myfunc()"
   ]
  },
  {
   "cell_type": "markdown",
   "metadata": {},
   "source": [
    "## [Making use of context-sensitive comparisons](https://docs.pytest.org/en/latest/assert.html#making-use-of-context-sensitive-comparisons)\n",
    "Depending on the style of assertion, pytest can provide additional input on inequality. For example,"
   ]
  },
  {
   "cell_type": "code",
   "execution_count": null,
   "metadata": {},
   "outputs": [],
   "source": [
    "def test_set_comparison():\n",
    "    set1 = set(\"1308\")\n",
    "    set2 = set(\"8035\")\n",
    "    assert set1 == set2"
   ]
  },
  {
   "cell_type": "markdown",
   "metadata": {},
   "source": [
    "yields"
   ]
  },
  {
   "cell_type": "raw",
   "metadata": {},
   "source": [
    "_____________________________ test_set_comparison _____________________________\n",
    "\n",
    "    def test_set_comparison():\n",
    "        set1 = set(\"1308\")\n",
    "        set2 = set(\"8035\")\n",
    ">       assert set1 == set2\n",
    "E       AssertionError: assert {'0', '1', '3', '8'} == {'0', '3', '5', '8'}\n",
    "E         Extra items in the left set:\n",
    "E         '1'\n",
    "E         Extra items in the right set:\n",
    "E         '5'\n",
    "E         Use -v to get the full diff\n",
    "\n",
    "test_assert1.py:43: AssertionError"
   ]
  },
  {
   "cell_type": "markdown",
   "metadata": {},
   "source": [
    "## [Defining your own assertion comparison](https://docs.pytest.org/en/latest/assert.html#defining-your-own-assertion-comparison)\n",
    "`test_foocompare.py` contains a test that will fail based on an overloaded equality operator\n",
    "\n",
    "`conftest.py` contains a custom definition of the `pytest_assertrepr_compare` hook to show output as follows:\n"
   ]
  },
  {
   "cell_type": "raw",
   "metadata": {},
   "source": [
    "________________________________ test_compare _________________________________\n",
    "\n",
    "    def test_compare():\n",
    "        f1 = Foo(1)\n",
    "        f2 = Foo(2)\n",
    ">       assert f1 == f2\n",
    "E       assert Comparing Foo instances:\n",
    "E            vals: 1 != 2\n",
    "\n",
    "test_foocompare.py:12: AssertionError"
   ]
  },
  {
   "cell_type": "markdown",
   "metadata": {},
   "source": [
    "## [Advanced assertion introspection](https://docs.pytest.org/en/latest/assert.html#advanced-assertion-introspection)\n",
    "`pytest` rewrites test modules discovered during collection process, so asserts in supporting modules that aren't test modules will not be re-written\n",
    "\n",
    "To manually enable assertion rewriting for an imported modue, call `register_assert_rewrite` in `conftest.py`"
   ]
  }
 ],
 "metadata": {
  "kernelspec": {
   "display_name": "Python 3",
   "language": "python",
   "name": "python3"
  },
  "language_info": {
   "codemirror_mode": {
    "name": "ipython",
    "version": 3
   },
   "file_extension": ".py",
   "mimetype": "text/x-python",
   "name": "python",
   "nbconvert_exporter": "python",
   "pygments_lexer": "ipython3",
   "version": "3.7.0"
  }
 },
 "nbformat": 4,
 "nbformat_minor": 2
}
