{
 "cells": [
  {
   "cell_type": "markdown",
   "metadata": {},
   "source": [
    "# Background\n",
    "Before opening PyCharm, a `tutorial` conda environment was made with `pytest` included, via Anaconda Prompt:"
   ]
  },
  {
   "cell_type": "raw",
   "metadata": {},
   "source": [
    "(base) C:\\>conda create --name tutorials pytest"
   ]
  },
  {
   "cell_type": "markdown",
   "metadata": {},
   "source": [
    "# [Locating the conda environment interpreter](https://docs.anaconda.com/anaconda/user-guide/tasks/integration/python-path/)\n",
    "**Official instructions at above link**\n",
    "\n",
    "The environment was viewed via the `conda env list` command:"
   ]
  },
  {
   "cell_type": "raw",
   "metadata": {},
   "source": [
    "(base) C:\\>conda env list\n",
    "# conda environments:\n",
    "#\n",
    "base                  *  C:\\Users\\kahna\\AppData\\Local\\Continuum\\anaconda3\n",
    "tutorials                C:\\Users\\kahna\\AppData\\Local\\Continuum\\anaconda3\\envs\\tutorials"
   ]
  },
  {
   "cell_type": "markdown",
   "metadata": {},
   "source": [
    "The desired `tutorials` environment was thus located at \n",
    "\n",
    "`C:\\Users\\kahna\\AppData\\Local\\Continuum\\anaconda3\\envs\\tutorials`\n",
    "\n",
    "[Configuring Conda Environment](https://www.jetbrains.com/help/pycharm/conda-support-creating-conda-virtual-environment.html) instructions were followed. The required interpreter was located inside the `tutorials` environment folder, with the interpreter having path\n",
    "\n",
    "`C:\\Users\\kahna\\AppData\\Local\\Continuum\\anaconda3\\envs\\tutorials\\python.exe`\n",
    "\n",
    "From inside PyCharm, there were some packages listed out-of-date. However, in Anaconda Prompt, with the `tutorials` environment activated, the `conda update -all` prompt displayed that all packages were already installed:"
   ]
  },
  {
   "cell_type": "raw",
   "metadata": {},
   "source": [
    "(tutorials) C:\\>conda update --all\n",
    "Solving environment: done\n",
    "\n",
    "# All requested packages already installed."
   ]
  },
  {
   "cell_type": "markdown",
   "metadata": {},
   "source": [
    "Thus, the PyCharm out-of-date indications were invalid because of various dependencies maintained by Anaconda (package `X` requires `Y` to be version 5.2 or less but version `5.3` is the most recent release, etc.)"
   ]
  },
  {
   "cell_type": "code",
   "execution_count": null,
   "metadata": {},
   "outputs": [],
   "source": []
  }
 ],
 "metadata": {
  "kernelspec": {
   "display_name": "Python 3",
   "language": "python",
   "name": "python3"
  },
  "language_info": {
   "codemirror_mode": {
    "name": "ipython",
    "version": 3
   },
   "file_extension": ".py",
   "mimetype": "text/x-python",
   "name": "python",
   "nbconvert_exporter": "python",
   "pygments_lexer": "ipython3",
   "version": "3.6.6"
  }
 },
 "nbformat": 4,
 "nbformat_minor": 2
}
